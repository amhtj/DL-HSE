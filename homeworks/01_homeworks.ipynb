{
 "nbformat": 4,
 "nbformat_minor": 0,
 "metadata": {
  "colab": {
   "provenance": []
  },
  "kernelspec": {
   "name": "python3",
   "display_name": "Python 3"
  },
  "language_info": {
   "name": "python"
  }
 },
 "cells": [
  {
   "cell_type": "markdown",
   "source": [
    "# Домашнее задание №1 "
   ],
   "metadata": {
    "id": "QkLMu9vfYCHH"
   }
  },
  {
   "cell_type": "markdown",
   "source": [
    "Дата выдачи: 21.09 \n",
    "\n",
    "Мягкий дедлайн: 1.10 \n",
    "\n",
    "Жесткий дедлайн: 6.10\n",
    "\n",
    "Сдавать домашнее задание после жесткого дедлайна нельзя. \n",
    "Максимально допустимая оценка за работу - 5 баллов. \n"
   ],
   "metadata": {
    "id": "hxz9B-QKYDQQ"
   }
  },
  {
   "cell_type": "code",
   "execution_count": 2,
   "outputs": [],
   "source": [
    "import numpy as np"
   ],
   "metadata": {
    "collapsed": false
   }
  },
  {
   "cell_type": "markdown",
   "source": [
    "**Задача 1** \n",
    "\n",
    "Подсчитать произведение ненулевых элементов на диагонали прямоугольной матрицы.\n",
    "Например, для \n",
    "\n",
    "x = np.array([[1, 0, 1], [2, 0, 2], [3, 0, 3], [4, 4, 4]])` ответ – 3."
   ],
   "metadata": {
    "id": "w1he_hqBYDam"
   }
  },
  {
   "cell_type": "code",
   "execution_count": 10,
   "outputs": [
    {
     "data": {
      "text/plain": "3"
     },
     "execution_count": 10,
     "metadata": {},
     "output_type": "execute_result"
    }
   ],
   "source": [
    "x = np.array([[1, 0, 1], [2, 0, 2], [3, 0, 3], [4, 4, 4]])\n",
    "\n",
    "# Получаем элементы на диагонали, находим все индексы которые не нули, умнажаем элементы\n",
    "x.diagonal()[np.nonzero(x.diagonal())].prod()"
   ],
   "metadata": {
    "collapsed": false
   }
  },
  {
   "cell_type": "markdown",
   "source": [
    "**Задача 2**\n",
    "\n",
    "Даны два вектора x и y. Проверить, задают ли они одно и то же мультимножество.\n",
    "Например, для \n",
    "\n",
    "`x = np.array([1, 2, 2, 4]), y = np.array([4, 2, 1, 2])` ответ – True."
   ],
   "metadata": {
    "id": "XrsHmf0zaD3x"
   }
  },
  {
   "cell_type": "code",
   "execution_count": 35,
   "outputs": [
    {
     "name": "stdout",
     "output_type": "stream",
     "text": [
      "True\n"
     ]
    }
   ],
   "source": [
    "x = np.array([1, 2, 2, 4])\n",
    "y = np.array([4, 2, 1, 2])\n",
    "\n",
    "# Cортируем массивы и сравниваем поэлементно\n",
    "print(np.array_equal(np.sort(x), np.sort(y)))"
   ],
   "metadata": {
    "collapsed": false
   }
  },
  {
   "cell_type": "markdown",
   "source": [
    "**Задача 3**\n",
    "\n",
    "Найти максимальный элемент в векторе x среди элементов, перед которыми стоит нулевой.\n",
    "Например, для \n",
    "\n",
    "`x = np.array([6, 2, 0, 3, 0, 0, 5, 7, 0])` ответ – 5."
   ],
   "metadata": {
    "id": "dIzR8U_Ka3Pr"
   }
  },
  {
   "cell_type": "markdown",
   "source": [
    "**Решение 3 задачи**\n",
    "Находим все индексы нулевых элементов, при этом обрезая массив, так как последний ноль нас не интересует. Затем прибавляем к какжому элементу 1 - это будут индексы следующих элементов после нуля с помощью этой макси получаем элементы массива и ищем максимальный."
   ],
   "metadata": {
    "collapsed": false
   }
  },
  {
   "cell_type": "code",
   "execution_count": 46,
   "outputs": [
    {
     "data": {
      "text/plain": "5"
     },
     "execution_count": 46,
     "metadata": {},
     "output_type": "execute_result"
    }
   ],
   "source": [
    "x = np.array([6, 2, 0, 3, 0, 0, 5, 7, 0])\n",
    "\n",
    "x[np.where(x[:-1] == 0)[0] + 1].max()"
   ],
   "metadata": {
    "collapsed": false
   }
  }
 ]
}
