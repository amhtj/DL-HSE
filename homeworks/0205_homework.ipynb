{
  "cells": [
    {
      "cell_type": "code",
      "execution_count": 1,
      "metadata": {
        "id": "_IUp4Vd7krPq"
      },
      "outputs": [],
      "source": [
        "%matplotlib inline\n",
        "from matplotlib import pyplot as plt\n",
        "\n",
        "plt.rcParams['figure.figsize'] = (10, 8)\n",
        "import collections\n",
        "\n",
        "import numpy as np\n",
        "import pandas as pd\n",
        "import seaborn as sns\n",
        "from sklearn import preprocessing\n",
        "from sklearn.ensemble import RandomForestClassifier\n",
        "from sklearn.metrics import accuracy_score\n",
        "from sklearn.model_selection import GridSearchCV\n",
        "from sklearn.preprocessing import LabelEncoder\n",
        "from sklearn.tree import DecisionTreeClassifier, export_graphviz"
      ]
    },
    {
      "cell_type": "markdown",
      "metadata": {
        "id": "fbRMXdOUkrPv"
      },
      "source": [
        "## 1. Функции для расчета энтропии и прироста информации (5 баллов)"
      ]
    },
    {
      "cell_type": "markdown",
      "metadata": {
        "id": "gjb5dSurkrPv"
      },
      "source": [
        "Пример для проверки: 9 синих шариков и 11 желтых. Пусть шарик находится в состоянии \"1\", если он синий и \"0\" – если он желтый."
      ]
    },
    {
      "cell_type": "code",
      "execution_count": 2,
      "metadata": {
        "id": "nByvV201krPv"
      },
      "outputs": [],
      "source": [
        "balls = [1 for i in range(9)] + [0 for i in range(11)]"
      ]
    },
    {
      "cell_type": "markdown",
      "metadata": {
        "id": "uzP8Ur-1krPv"
      },
      "source": [
        "Дальше пусть шарики разбиваются на 2 группы"
      ]
    },
    {
      "cell_type": "code",
      "execution_count": 3,
      "metadata": {
        "id": "RRv2m0WFkrPv"
      },
      "outputs": [],
      "source": [
        "# две группы\n",
        "balls_left  = [1 for i in range(8)] + [0 for i in range(5)] # 8 синих и 5 желтых\n",
        "balls_right = [1 for i in range(1)] + [0 for i in range(6)] # 1 синий и 6 желтых"
      ]
    },
    {
      "cell_type": "markdown",
      "metadata": {
        "id": "cdXtBLphkrPv"
      },
      "source": [
        "**Реализуйте функцию для расчета энтропии Шеннона.**"
      ]
    },
    {
      "cell_type": "code",
      "execution_count": 4,
      "metadata": {
        "id": "niyG3jQMkrPv"
      },
      "outputs": [],
      "source": [
        "def entropy(a_list):\n",
        "    data = np.array(a_list)\n",
        "    probs = np.unique(data, return_counts=True)[1] / len(data)\n",
        "    return -(probs *  np.log2(probs)).sum()"
      ]
    },
    {
      "cell_type": "markdown",
      "metadata": {
        "id": "jAHHpaQmkrPv"
      },
      "source": [
        "Проверка"
      ]
    },
    {
      "cell_type": "code",
      "execution_count": 5,
      "metadata": {
        "id": "u3RnuvFRkrPv"
      },
      "outputs": [
        {
          "name": "stdout",
          "output_type": "stream",
          "text": [
            "Entropy for balls 0.993\n",
            "Entropy for balls_left 0.961\n",
            "Entropy for balls_right 0.592\n",
            "Entropy for dice 2.585\n"
          ]
        }
      ],
      "source": [
        "print(\"Entropy for balls %.3f\"%(entropy(balls))) # 9 синих и 11 желтых\n",
        "print(\"Entropy for balls_left %.3f\"%(entropy(balls_left))) # 8 синих и 5 желтых\n",
        "print(\"Entropy for balls_right %.3f\"%(entropy(balls_right))) # 1 синий и 6 желтых\n",
        "print(\"Entropy for dice %.3f\"%(entropy([1,2,3,4,5,6]))) # энтропия игральной кости с несмещенным центром тяжести"
      ]
    },
    {
      "cell_type": "markdown",
      "metadata": {
        "id": "FF98VThDkrPv"
      },
      "source": [
        "Чему равна энтропия состояния, заданного списком `balls_left`?\n",
        "\n",
        "Ответ: 0.96"
      ]
    },
    {
      "cell_type": "markdown",
      "metadata": {
        "id": "QffY-8GNkrPv"
      },
      "source": [
        "Чему равна энтропия игральной кости с несмещенным центром тяжести?\n",
        "\n",
        "Ответ: 2.58"
      ]
    },
    {
      "cell_type": "code",
      "execution_count": 6,
      "metadata": {
        "id": "vnKeN_OUkrPw"
      },
      "outputs": [],
      "source": [
        "# расчет прироста информации\n",
        "\n",
        "def information_gain(root, left, right):\n",
        "    ''' root - изначальный набор данных, left и right два разбиения изначального набора'''\n",
        "    sum_entrop = len(left) / len(root) * entropy(left) + len(right) / len(root) * entropy(right)\n",
        "    return entropy(root) - sum_entrop"
      ]
    },
    {
      "cell_type": "markdown",
      "metadata": {
        "id": "1tagBvB9krPw"
      },
      "source": [
        "Каков прирост информации при разделении выборки на `balls_left` и `balls_right`?"
      ]
    },
    {
      "cell_type": "code",
      "execution_count": 7,
      "metadata": {
        "id": "rYcVjIcDkrPw"
      },
      "outputs": [
        {
          "name": "stdout",
          "output_type": "stream",
          "text": [
            "Information gain is 0.161\n"
          ]
        }
      ],
      "source": [
        "print(\"Information gain is %.3f\"%(information_gain(balls, balls_left, balls_right)))"
      ]
    },
    {
      "cell_type": "code",
      "execution_count": 103,
      "metadata": {
        "id": "-S7-xeKEkrPw"
      },
      "outputs": [],
      "source": [
        "def best_feature_to_split(X, y, verbose=0):\n",
        "    ''' Выводит прирост информации при разбиении по каждому признаку'''\n",
        "    max_gain = float('-inf')\n",
        "    best_feature = None\n",
        "    best_divide = None\n",
        "\n",
        "    for feature in X:\n",
        "        if verbose:\n",
        "            print(\"Feature \", feature, ':')\n",
        "\n",
        "        feature_uniq_values = np.unique(np.array(X[feature]))\n",
        "        for i in range(len(feature_uniq_values)):\n",
        "            value = feature_uniq_values[i]\n",
        "            left_part = [y[j] for j in range(len(y)) if X[feature][j] <= value]\n",
        "            right_part = [y[j] for j in range(len(y)) if X[feature][j] > value]\n",
        "            gain = information_gain(y, left_part, right_part)\n",
        "            if gain > max_gain:\n",
        "                max_gain = gain\n",
        "                best_feature = feature\n",
        "                best_divide = value\n",
        "            if verbose:\n",
        "                print(\"\\tFor value %s information gain %.2f\"%(str(value), gain))\n",
        "    \n",
        "    return {\"feature_name\": best_feature, \"splitting_value\": best_divide}"
      ]
    },
    {
      "cell_type": "code",
      "execution_count": 104,
      "metadata": {},
      "outputs": [
        {
          "name": "stdout",
          "output_type": "stream",
          "text": [
            "Feature  Numbers :\n",
            "\tFor value 0 information gain 0.04\n",
            "\tFor value 1 information gain 0.00\n",
            "\tFor value 2 information gain 0.02\n",
            "\tFor value 3 information gain 0.07\n",
            "\tFor value 4 information gain 0.12\n",
            "\tFor value 5 information gain 0.06\n",
            "\tFor value 6 information gain 0.02\n",
            "\tFor value 7 information gain 0.00\n",
            "\tFor value 8 information gain 0.00\n",
            "\tFor value 9 information gain 0.01\n",
            "\tFor value 10 information gain 0.03\n",
            "\tFor value 11 information gain 0.08\n",
            "\tFor value 12 information gain 0.16\n",
            "\tFor value 13 information gain 0.11\n",
            "\tFor value 14 information gain 0.06\n",
            "\tFor value 15 information gain 0.03\n",
            "\tFor value 16 information gain 0.01\n",
            "\tFor value 17 information gain 0.00\n",
            "\tFor value 18 information gain 0.06\n",
            "\tFor value 19 information gain 0.00\n",
            "{'feature_name': 'Numbers', 'splitting_value': 12}\n"
          ]
        }
      ],
      "source": [
        "## Test best_feature_to_split\n",
        "test_balls = [0, 1, 1, 1, 1, 0, 0, 0, 0, 1, 1, 1, 1, 0, 0, 0, 0, 0, 0, 1]\n",
        "train_balls = pd.DataFrame(range(len(test_balls)), columns=[\"Numbers\"])\n",
        "print(best_feature_to_split(train_balls, test_balls, verbose=1))"
      ]
    },
    {
      "cell_type": "code",
      "execution_count": 105,
      "metadata": {},
      "outputs": [
        {
          "name": "stdout",
          "output_type": "stream",
          "text": [
            "Feature  Numbers :\n",
            "\tFor value 0 information gain 0.04\n",
            "\tFor value 1 information gain 0.00\n",
            "\tFor value 2 information gain 0.02\n",
            "\tFor value 3 information gain 0.07\n",
            "\tFor value 4 information gain 0.12\n",
            "\tFor value 5 information gain 0.06\n",
            "\tFor value 6 information gain 0.02\n",
            "\tFor value 7 information gain 0.00\n",
            "\tFor value 8 information gain 0.00\n",
            "\tFor value 9 information gain 0.01\n",
            "\tFor value 10 information gain 0.03\n",
            "\tFor value 11 information gain 0.08\n",
            "\tFor value 12 information gain 0.16\n",
            "\tFor value 13 information gain 0.11\n",
            "\tFor value 14 information gain 0.06\n",
            "\tFor value 15 information gain 0.03\n",
            "\tFor value 16 information gain 0.01\n",
            "\tFor value 17 information gain 0.00\n",
            "\tFor value 18 information gain 0.06\n",
            "\tFor value 19 information gain 0.00\n",
            "Feature  Useless feature :\n",
            "\tFor value 1 information gain 0.01\n",
            "\tFor value 2 information gain 0.00\n",
            "{'feature_name': 'Numbers', 'splitting_value': 12}\n"
          ]
        }
      ],
      "source": [
        "## Test on multy feature\n",
        "train_balls = np.array([range(len(test_balls)), [1, 2] * (len(test_balls)//2)]).T\n",
        "train_balls = pd.DataFrame(train_balls, \n",
        "                            columns=[\"Numbers\", \"Useless feature\"])\n",
        "print(best_feature_to_split(train_balls, test_balls, verbose=1))"
      ]
    },
    {
      "cell_type": "markdown",
      "metadata": {
        "id": "Ua5tJw61krPw"
      },
      "source": [
        "## 2. Деревья решений на наборе данных Adult (10 баллов)"
      ]
    },
    {
      "cell_type": "markdown",
      "metadata": {
        "id": "CD5jQlb4krPw"
      },
      "source": [
        "**Описание набора:**"
      ]
    },
    {
      "cell_type": "markdown",
      "metadata": {
        "id": "-TkPOGOkkrPw"
      },
      "source": [
        "https://archive.ics.uci.edu/ml/datasets/adult (для ознакомления, а сами данные adult_train, adult_test располагаются в папке datasets на нашем GitHub):\n",
        "\n",
        "Классификация людей с помощью демографических данных для прогнозирования, зарабатывает ли человек более 50 000 \\$ в год.\n",
        "\n",
        "Описание признаков: \n",
        "\n",
        "**Age** – возраст, количественный признак  \n",
        "**Workclass** – тип работодателя, количественный признак  \n",
        "**fnlwgt** – итоговый вес обьекта, количественный признак    \n",
        "**Education** – уровень образования, качественный признак  \n",
        "**Education_Num** – количество лет обучения, количественный признак  \n",
        "**Martial_Status** – семейное положение, категориальный признак  \n",
        "**Occupation** – профессия, категориальный признак  \n",
        "**Relationship** – тип семейных отношений, категориальный признак    \n",
        "**Race** – раса, категориальный признак  \n",
        "**Sex** – пол, качественный признак  \n",
        "**Capital_Gain** – прирост капитала, количественный признак  \n",
        "**Capital_Loss** – потери капитала, количественный признак  \n",
        "**Hours_per_week** – количество часов работы в неделю, количественный признак  \n",
        "**Country** – страна, категориальный признак  \n",
        "   \n",
        "Целевая переменная: **Target** – уровень заработка, категориальный (бинарный) признак  "
      ]
    },
    {
      "cell_type": "markdown",
      "metadata": {
        "id": "VSIjkSO4krPw"
      },
      "source": [
        "**Считываем обучающую и тестовую выборки.**"
      ]
    },
    {
      "cell_type": "code",
      "execution_count": 9,
      "metadata": {
        "id": "TodMOViCkrPw"
      },
      "outputs": [
        {
          "data": {
            "text/html": [
              "<div>\n",
              "<style scoped>\n",
              "    .dataframe tbody tr th:only-of-type {\n",
              "        vertical-align: middle;\n",
              "    }\n",
              "\n",
              "    .dataframe tbody tr th {\n",
              "        vertical-align: top;\n",
              "    }\n",
              "\n",
              "    .dataframe thead th {\n",
              "        text-align: right;\n",
              "    }\n",
              "</style>\n",
              "<table border=\"1\" class=\"dataframe\">\n",
              "  <thead>\n",
              "    <tr style=\"text-align: right;\">\n",
              "      <th></th>\n",
              "      <th>Age</th>\n",
              "      <th>Workclass</th>\n",
              "      <th>fnlwgt</th>\n",
              "      <th>Education</th>\n",
              "      <th>Education_Num</th>\n",
              "      <th>Martial_Status</th>\n",
              "      <th>Occupation</th>\n",
              "      <th>Relationship</th>\n",
              "      <th>Race</th>\n",
              "      <th>Sex</th>\n",
              "      <th>Capital_Gain</th>\n",
              "      <th>Capital_Loss</th>\n",
              "      <th>Hours_per_week</th>\n",
              "      <th>Country</th>\n",
              "      <th>Target</th>\n",
              "    </tr>\n",
              "  </thead>\n",
              "  <tbody>\n",
              "    <tr>\n",
              "      <th>32556</th>\n",
              "      <td>27</td>\n",
              "      <td>Private</td>\n",
              "      <td>257302</td>\n",
              "      <td>Assoc-acdm</td>\n",
              "      <td>12</td>\n",
              "      <td>Married-civ-spouse</td>\n",
              "      <td>Tech-support</td>\n",
              "      <td>Wife</td>\n",
              "      <td>White</td>\n",
              "      <td>Female</td>\n",
              "      <td>0</td>\n",
              "      <td>0</td>\n",
              "      <td>38</td>\n",
              "      <td>United-States</td>\n",
              "      <td>&lt;=50K</td>\n",
              "    </tr>\n",
              "    <tr>\n",
              "      <th>32557</th>\n",
              "      <td>40</td>\n",
              "      <td>Private</td>\n",
              "      <td>154374</td>\n",
              "      <td>HS-grad</td>\n",
              "      <td>9</td>\n",
              "      <td>Married-civ-spouse</td>\n",
              "      <td>Machine-op-inspct</td>\n",
              "      <td>Husband</td>\n",
              "      <td>White</td>\n",
              "      <td>Male</td>\n",
              "      <td>0</td>\n",
              "      <td>0</td>\n",
              "      <td>40</td>\n",
              "      <td>United-States</td>\n",
              "      <td>&gt;50K</td>\n",
              "    </tr>\n",
              "    <tr>\n",
              "      <th>32558</th>\n",
              "      <td>58</td>\n",
              "      <td>Private</td>\n",
              "      <td>151910</td>\n",
              "      <td>HS-grad</td>\n",
              "      <td>9</td>\n",
              "      <td>Widowed</td>\n",
              "      <td>Adm-clerical</td>\n",
              "      <td>Unmarried</td>\n",
              "      <td>White</td>\n",
              "      <td>Female</td>\n",
              "      <td>0</td>\n",
              "      <td>0</td>\n",
              "      <td>40</td>\n",
              "      <td>United-States</td>\n",
              "      <td>&lt;=50K</td>\n",
              "    </tr>\n",
              "    <tr>\n",
              "      <th>32559</th>\n",
              "      <td>22</td>\n",
              "      <td>Private</td>\n",
              "      <td>201490</td>\n",
              "      <td>HS-grad</td>\n",
              "      <td>9</td>\n",
              "      <td>Never-married</td>\n",
              "      <td>Adm-clerical</td>\n",
              "      <td>Own-child</td>\n",
              "      <td>White</td>\n",
              "      <td>Male</td>\n",
              "      <td>0</td>\n",
              "      <td>0</td>\n",
              "      <td>20</td>\n",
              "      <td>United-States</td>\n",
              "      <td>&lt;=50K</td>\n",
              "    </tr>\n",
              "    <tr>\n",
              "      <th>32560</th>\n",
              "      <td>52</td>\n",
              "      <td>Self-emp-inc</td>\n",
              "      <td>287927</td>\n",
              "      <td>HS-grad</td>\n",
              "      <td>9</td>\n",
              "      <td>Married-civ-spouse</td>\n",
              "      <td>Exec-managerial</td>\n",
              "      <td>Wife</td>\n",
              "      <td>White</td>\n",
              "      <td>Female</td>\n",
              "      <td>15024</td>\n",
              "      <td>0</td>\n",
              "      <td>40</td>\n",
              "      <td>United-States</td>\n",
              "      <td>&gt;50K</td>\n",
              "    </tr>\n",
              "  </tbody>\n",
              "</table>\n",
              "</div>"
            ],
            "text/plain": [
              "       Age      Workclass  fnlwgt    Education  Education_Num  \\\n",
              "32556   27        Private  257302   Assoc-acdm             12   \n",
              "32557   40        Private  154374      HS-grad              9   \n",
              "32558   58        Private  151910      HS-grad              9   \n",
              "32559   22        Private  201490      HS-grad              9   \n",
              "32560   52   Self-emp-inc  287927      HS-grad              9   \n",
              "\n",
              "            Martial_Status          Occupation Relationship    Race      Sex  \\\n",
              "32556   Married-civ-spouse        Tech-support         Wife   White   Female   \n",
              "32557   Married-civ-spouse   Machine-op-inspct      Husband   White     Male   \n",
              "32558              Widowed        Adm-clerical    Unmarried   White   Female   \n",
              "32559        Never-married        Adm-clerical    Own-child   White     Male   \n",
              "32560   Married-civ-spouse     Exec-managerial         Wife   White   Female   \n",
              "\n",
              "       Capital_Gain  Capital_Loss  Hours_per_week         Country  Target  \n",
              "32556             0             0              38   United-States   <=50K  \n",
              "32557             0             0              40   United-States    >50K  \n",
              "32558             0             0              40   United-States   <=50K  \n",
              "32559             0             0              20   United-States   <=50K  \n",
              "32560         15024             0              40   United-States    >50K  "
            ]
          },
          "execution_count": 9,
          "metadata": {},
          "output_type": "execute_result"
        }
      ],
      "source": [
        "data_train = pd.read_csv('../datasets/adult_train.csv', sep=';')\n",
        "data_train.tail()"
      ]
    },
    {
      "cell_type": "code",
      "execution_count": 10,
      "metadata": {
        "id": "1BJv1TLhkrPw"
      },
      "outputs": [
        {
          "data": {
            "text/html": [
              "<div>\n",
              "<style scoped>\n",
              "    .dataframe tbody tr th:only-of-type {\n",
              "        vertical-align: middle;\n",
              "    }\n",
              "\n",
              "    .dataframe tbody tr th {\n",
              "        vertical-align: top;\n",
              "    }\n",
              "\n",
              "    .dataframe thead th {\n",
              "        text-align: right;\n",
              "    }\n",
              "</style>\n",
              "<table border=\"1\" class=\"dataframe\">\n",
              "  <thead>\n",
              "    <tr style=\"text-align: right;\">\n",
              "      <th></th>\n",
              "      <th>Age</th>\n",
              "      <th>Workclass</th>\n",
              "      <th>fnlwgt</th>\n",
              "      <th>Education</th>\n",
              "      <th>Education_Num</th>\n",
              "      <th>Martial_Status</th>\n",
              "      <th>Occupation</th>\n",
              "      <th>Relationship</th>\n",
              "      <th>Race</th>\n",
              "      <th>Sex</th>\n",
              "      <th>Capital_Gain</th>\n",
              "      <th>Capital_Loss</th>\n",
              "      <th>Hours_per_week</th>\n",
              "      <th>Country</th>\n",
              "      <th>Target</th>\n",
              "    </tr>\n",
              "  </thead>\n",
              "  <tbody>\n",
              "    <tr>\n",
              "      <th>16277</th>\n",
              "      <td>39</td>\n",
              "      <td>Private</td>\n",
              "      <td>215419.0</td>\n",
              "      <td>Bachelors</td>\n",
              "      <td>13.0</td>\n",
              "      <td>Divorced</td>\n",
              "      <td>Prof-specialty</td>\n",
              "      <td>Not-in-family</td>\n",
              "      <td>White</td>\n",
              "      <td>Female</td>\n",
              "      <td>0.0</td>\n",
              "      <td>0.0</td>\n",
              "      <td>36.0</td>\n",
              "      <td>United-States</td>\n",
              "      <td>&lt;=50K.</td>\n",
              "    </tr>\n",
              "    <tr>\n",
              "      <th>16278</th>\n",
              "      <td>64</td>\n",
              "      <td>NaN</td>\n",
              "      <td>321403.0</td>\n",
              "      <td>HS-grad</td>\n",
              "      <td>9.0</td>\n",
              "      <td>Widowed</td>\n",
              "      <td>NaN</td>\n",
              "      <td>Other-relative</td>\n",
              "      <td>Black</td>\n",
              "      <td>Male</td>\n",
              "      <td>0.0</td>\n",
              "      <td>0.0</td>\n",
              "      <td>40.0</td>\n",
              "      <td>United-States</td>\n",
              "      <td>&lt;=50K.</td>\n",
              "    </tr>\n",
              "    <tr>\n",
              "      <th>16279</th>\n",
              "      <td>38</td>\n",
              "      <td>Private</td>\n",
              "      <td>374983.0</td>\n",
              "      <td>Bachelors</td>\n",
              "      <td>13.0</td>\n",
              "      <td>Married-civ-spouse</td>\n",
              "      <td>Prof-specialty</td>\n",
              "      <td>Husband</td>\n",
              "      <td>White</td>\n",
              "      <td>Male</td>\n",
              "      <td>0.0</td>\n",
              "      <td>0.0</td>\n",
              "      <td>50.0</td>\n",
              "      <td>United-States</td>\n",
              "      <td>&lt;=50K.</td>\n",
              "    </tr>\n",
              "    <tr>\n",
              "      <th>16280</th>\n",
              "      <td>44</td>\n",
              "      <td>Private</td>\n",
              "      <td>83891.0</td>\n",
              "      <td>Bachelors</td>\n",
              "      <td>13.0</td>\n",
              "      <td>Divorced</td>\n",
              "      <td>Adm-clerical</td>\n",
              "      <td>Own-child</td>\n",
              "      <td>Asian-Pac-Islander</td>\n",
              "      <td>Male</td>\n",
              "      <td>5455.0</td>\n",
              "      <td>0.0</td>\n",
              "      <td>40.0</td>\n",
              "      <td>United-States</td>\n",
              "      <td>&lt;=50K.</td>\n",
              "    </tr>\n",
              "    <tr>\n",
              "      <th>16281</th>\n",
              "      <td>35</td>\n",
              "      <td>Self-emp-inc</td>\n",
              "      <td>182148.0</td>\n",
              "      <td>Bachelors</td>\n",
              "      <td>13.0</td>\n",
              "      <td>Married-civ-spouse</td>\n",
              "      <td>Exec-managerial</td>\n",
              "      <td>Husband</td>\n",
              "      <td>White</td>\n",
              "      <td>Male</td>\n",
              "      <td>0.0</td>\n",
              "      <td>0.0</td>\n",
              "      <td>60.0</td>\n",
              "      <td>United-States</td>\n",
              "      <td>&gt;50K.</td>\n",
              "    </tr>\n",
              "  </tbody>\n",
              "</table>\n",
              "</div>"
            ],
            "text/plain": [
              "      Age      Workclass    fnlwgt   Education  Education_Num  \\\n",
              "16277  39        Private  215419.0   Bachelors           13.0   \n",
              "16278  64            NaN  321403.0     HS-grad            9.0   \n",
              "16279  38        Private  374983.0   Bachelors           13.0   \n",
              "16280  44        Private   83891.0   Bachelors           13.0   \n",
              "16281  35   Self-emp-inc  182148.0   Bachelors           13.0   \n",
              "\n",
              "            Martial_Status        Occupation     Relationship  \\\n",
              "16277             Divorced    Prof-specialty    Not-in-family   \n",
              "16278              Widowed               NaN   Other-relative   \n",
              "16279   Married-civ-spouse    Prof-specialty          Husband   \n",
              "16280             Divorced      Adm-clerical        Own-child   \n",
              "16281   Married-civ-spouse   Exec-managerial          Husband   \n",
              "\n",
              "                      Race      Sex  Capital_Gain  Capital_Loss  \\\n",
              "16277                White   Female           0.0           0.0   \n",
              "16278                Black     Male           0.0           0.0   \n",
              "16279                White     Male           0.0           0.0   \n",
              "16280   Asian-Pac-Islander     Male        5455.0           0.0   \n",
              "16281                White     Male           0.0           0.0   \n",
              "\n",
              "       Hours_per_week         Country   Target  \n",
              "16277            36.0   United-States   <=50K.  \n",
              "16278            40.0   United-States   <=50K.  \n",
              "16279            50.0   United-States   <=50K.  \n",
              "16280            40.0   United-States   <=50K.  \n",
              "16281            60.0   United-States    >50K.  "
            ]
          },
          "execution_count": 10,
          "metadata": {},
          "output_type": "execute_result"
        }
      ],
      "source": [
        "data_test = pd.read_csv('../datasets/adult_test.csv', sep=';') \n",
        "data_test.tail()"
      ]
    },
    {
      "cell_type": "code",
      "execution_count": 11,
      "metadata": {
        "id": "zWpVSvXwkrPw"
      },
      "outputs": [],
      "source": [
        "# необходимо убрать строки с неправильными метками в тестовой выборке\n",
        "data_test = data_test[(data_test['Target'] == ' >50K.') \n",
        "                      | (data_test['Target']==' <=50K.')]\n",
        "\n",
        "# перекодируем target в числовое поле\n",
        "data_train.replace(' <=50K', 0, inplace=True)\n",
        "data_train.replace(' >50K', 1, inplace=True)\n",
        "\n",
        "data_test.replace(' <=50K.', 0, inplace=True)\n",
        "data_test.replace(' >50K.', 1, inplace=True)"
      ]
    },
    {
      "cell_type": "markdown",
      "metadata": {
        "id": "RquTpQdCkrPw"
      },
      "source": [
        "**Первичный анализ данных.**"
      ]
    },
    {
      "cell_type": "code",
      "execution_count": 12,
      "metadata": {
        "id": "MsZn_T36krPw"
      },
      "outputs": [
        {
          "data": {
            "text/html": [
              "<div>\n",
              "<style scoped>\n",
              "    .dataframe tbody tr th:only-of-type {\n",
              "        vertical-align: middle;\n",
              "    }\n",
              "\n",
              "    .dataframe tbody tr th {\n",
              "        vertical-align: top;\n",
              "    }\n",
              "\n",
              "    .dataframe thead th {\n",
              "        text-align: right;\n",
              "    }\n",
              "</style>\n",
              "<table border=\"1\" class=\"dataframe\">\n",
              "  <thead>\n",
              "    <tr style=\"text-align: right;\">\n",
              "      <th></th>\n",
              "      <th>count</th>\n",
              "      <th>unique</th>\n",
              "      <th>top</th>\n",
              "      <th>freq</th>\n",
              "      <th>mean</th>\n",
              "      <th>std</th>\n",
              "      <th>min</th>\n",
              "      <th>25%</th>\n",
              "      <th>50%</th>\n",
              "      <th>75%</th>\n",
              "      <th>max</th>\n",
              "    </tr>\n",
              "  </thead>\n",
              "  <tbody>\n",
              "    <tr>\n",
              "      <th>Age</th>\n",
              "      <td>16281</td>\n",
              "      <td>73</td>\n",
              "      <td>35</td>\n",
              "      <td>461</td>\n",
              "      <td>NaN</td>\n",
              "      <td>NaN</td>\n",
              "      <td>NaN</td>\n",
              "      <td>NaN</td>\n",
              "      <td>NaN</td>\n",
              "      <td>NaN</td>\n",
              "      <td>NaN</td>\n",
              "    </tr>\n",
              "    <tr>\n",
              "      <th>Workclass</th>\n",
              "      <td>15318</td>\n",
              "      <td>8</td>\n",
              "      <td>Private</td>\n",
              "      <td>11210</td>\n",
              "      <td>NaN</td>\n",
              "      <td>NaN</td>\n",
              "      <td>NaN</td>\n",
              "      <td>NaN</td>\n",
              "      <td>NaN</td>\n",
              "      <td>NaN</td>\n",
              "      <td>NaN</td>\n",
              "    </tr>\n",
              "    <tr>\n",
              "      <th>fnlwgt</th>\n",
              "      <td>16281.0</td>\n",
              "      <td>NaN</td>\n",
              "      <td>NaN</td>\n",
              "      <td>NaN</td>\n",
              "      <td>189435.677784</td>\n",
              "      <td>105714.907671</td>\n",
              "      <td>13492.0</td>\n",
              "      <td>116736.0</td>\n",
              "      <td>177831.0</td>\n",
              "      <td>238384.0</td>\n",
              "      <td>1490400.0</td>\n",
              "    </tr>\n",
              "    <tr>\n",
              "      <th>Education</th>\n",
              "      <td>16281</td>\n",
              "      <td>16</td>\n",
              "      <td>HS-grad</td>\n",
              "      <td>5283</td>\n",
              "      <td>NaN</td>\n",
              "      <td>NaN</td>\n",
              "      <td>NaN</td>\n",
              "      <td>NaN</td>\n",
              "      <td>NaN</td>\n",
              "      <td>NaN</td>\n",
              "      <td>NaN</td>\n",
              "    </tr>\n",
              "    <tr>\n",
              "      <th>Education_Num</th>\n",
              "      <td>16281.0</td>\n",
              "      <td>NaN</td>\n",
              "      <td>NaN</td>\n",
              "      <td>NaN</td>\n",
              "      <td>10.072907</td>\n",
              "      <td>2.567545</td>\n",
              "      <td>1.0</td>\n",
              "      <td>9.0</td>\n",
              "      <td>10.0</td>\n",
              "      <td>12.0</td>\n",
              "      <td>16.0</td>\n",
              "    </tr>\n",
              "    <tr>\n",
              "      <th>Martial_Status</th>\n",
              "      <td>16281</td>\n",
              "      <td>7</td>\n",
              "      <td>Married-civ-spouse</td>\n",
              "      <td>7403</td>\n",
              "      <td>NaN</td>\n",
              "      <td>NaN</td>\n",
              "      <td>NaN</td>\n",
              "      <td>NaN</td>\n",
              "      <td>NaN</td>\n",
              "      <td>NaN</td>\n",
              "      <td>NaN</td>\n",
              "    </tr>\n",
              "    <tr>\n",
              "      <th>Occupation</th>\n",
              "      <td>15315</td>\n",
              "      <td>14</td>\n",
              "      <td>Prof-specialty</td>\n",
              "      <td>2032</td>\n",
              "      <td>NaN</td>\n",
              "      <td>NaN</td>\n",
              "      <td>NaN</td>\n",
              "      <td>NaN</td>\n",
              "      <td>NaN</td>\n",
              "      <td>NaN</td>\n",
              "      <td>NaN</td>\n",
              "    </tr>\n",
              "    <tr>\n",
              "      <th>Relationship</th>\n",
              "      <td>16281</td>\n",
              "      <td>6</td>\n",
              "      <td>Husband</td>\n",
              "      <td>6523</td>\n",
              "      <td>NaN</td>\n",
              "      <td>NaN</td>\n",
              "      <td>NaN</td>\n",
              "      <td>NaN</td>\n",
              "      <td>NaN</td>\n",
              "      <td>NaN</td>\n",
              "      <td>NaN</td>\n",
              "    </tr>\n",
              "    <tr>\n",
              "      <th>Race</th>\n",
              "      <td>16281</td>\n",
              "      <td>5</td>\n",
              "      <td>White</td>\n",
              "      <td>13946</td>\n",
              "      <td>NaN</td>\n",
              "      <td>NaN</td>\n",
              "      <td>NaN</td>\n",
              "      <td>NaN</td>\n",
              "      <td>NaN</td>\n",
              "      <td>NaN</td>\n",
              "      <td>NaN</td>\n",
              "    </tr>\n",
              "    <tr>\n",
              "      <th>Sex</th>\n",
              "      <td>16281</td>\n",
              "      <td>2</td>\n",
              "      <td>Male</td>\n",
              "      <td>10860</td>\n",
              "      <td>NaN</td>\n",
              "      <td>NaN</td>\n",
              "      <td>NaN</td>\n",
              "      <td>NaN</td>\n",
              "      <td>NaN</td>\n",
              "      <td>NaN</td>\n",
              "      <td>NaN</td>\n",
              "    </tr>\n",
              "    <tr>\n",
              "      <th>Capital_Gain</th>\n",
              "      <td>16281.0</td>\n",
              "      <td>NaN</td>\n",
              "      <td>NaN</td>\n",
              "      <td>NaN</td>\n",
              "      <td>1081.905104</td>\n",
              "      <td>7583.935968</td>\n",
              "      <td>0.0</td>\n",
              "      <td>0.0</td>\n",
              "      <td>0.0</td>\n",
              "      <td>0.0</td>\n",
              "      <td>99999.0</td>\n",
              "    </tr>\n",
              "    <tr>\n",
              "      <th>Capital_Loss</th>\n",
              "      <td>16281.0</td>\n",
              "      <td>NaN</td>\n",
              "      <td>NaN</td>\n",
              "      <td>NaN</td>\n",
              "      <td>87.899269</td>\n",
              "      <td>403.105286</td>\n",
              "      <td>0.0</td>\n",
              "      <td>0.0</td>\n",
              "      <td>0.0</td>\n",
              "      <td>0.0</td>\n",
              "      <td>3770.0</td>\n",
              "    </tr>\n",
              "    <tr>\n",
              "      <th>Hours_per_week</th>\n",
              "      <td>16281.0</td>\n",
              "      <td>NaN</td>\n",
              "      <td>NaN</td>\n",
              "      <td>NaN</td>\n",
              "      <td>40.392236</td>\n",
              "      <td>12.479332</td>\n",
              "      <td>1.0</td>\n",
              "      <td>40.0</td>\n",
              "      <td>40.0</td>\n",
              "      <td>45.0</td>\n",
              "      <td>99.0</td>\n",
              "    </tr>\n",
              "    <tr>\n",
              "      <th>Country</th>\n",
              "      <td>16007</td>\n",
              "      <td>40</td>\n",
              "      <td>United-States</td>\n",
              "      <td>14662</td>\n",
              "      <td>NaN</td>\n",
              "      <td>NaN</td>\n",
              "      <td>NaN</td>\n",
              "      <td>NaN</td>\n",
              "      <td>NaN</td>\n",
              "      <td>NaN</td>\n",
              "      <td>NaN</td>\n",
              "    </tr>\n",
              "    <tr>\n",
              "      <th>Target</th>\n",
              "      <td>16281.0</td>\n",
              "      <td>NaN</td>\n",
              "      <td>NaN</td>\n",
              "      <td>NaN</td>\n",
              "      <td>0.236226</td>\n",
              "      <td>0.424776</td>\n",
              "      <td>0.0</td>\n",
              "      <td>0.0</td>\n",
              "      <td>0.0</td>\n",
              "      <td>0.0</td>\n",
              "      <td>1.0</td>\n",
              "    </tr>\n",
              "  </tbody>\n",
              "</table>\n",
              "</div>"
            ],
            "text/plain": [
              "                  count unique                  top   freq           mean  \\\n",
              "Age               16281     73                   35    461            NaN   \n",
              "Workclass         15318      8              Private  11210            NaN   \n",
              "fnlwgt          16281.0    NaN                  NaN    NaN  189435.677784   \n",
              "Education         16281     16              HS-grad   5283            NaN   \n",
              "Education_Num   16281.0    NaN                  NaN    NaN      10.072907   \n",
              "Martial_Status    16281      7   Married-civ-spouse   7403            NaN   \n",
              "Occupation        15315     14       Prof-specialty   2032            NaN   \n",
              "Relationship      16281      6              Husband   6523            NaN   \n",
              "Race              16281      5                White  13946            NaN   \n",
              "Sex               16281      2                 Male  10860            NaN   \n",
              "Capital_Gain    16281.0    NaN                  NaN    NaN    1081.905104   \n",
              "Capital_Loss    16281.0    NaN                  NaN    NaN      87.899269   \n",
              "Hours_per_week  16281.0    NaN                  NaN    NaN      40.392236   \n",
              "Country           16007     40        United-States  14662            NaN   \n",
              "Target          16281.0    NaN                  NaN    NaN       0.236226   \n",
              "\n",
              "                          std      min       25%       50%       75%  \\\n",
              "Age                       NaN      NaN       NaN       NaN       NaN   \n",
              "Workclass                 NaN      NaN       NaN       NaN       NaN   \n",
              "fnlwgt          105714.907671  13492.0  116736.0  177831.0  238384.0   \n",
              "Education                 NaN      NaN       NaN       NaN       NaN   \n",
              "Education_Num        2.567545      1.0       9.0      10.0      12.0   \n",
              "Martial_Status            NaN      NaN       NaN       NaN       NaN   \n",
              "Occupation                NaN      NaN       NaN       NaN       NaN   \n",
              "Relationship              NaN      NaN       NaN       NaN       NaN   \n",
              "Race                      NaN      NaN       NaN       NaN       NaN   \n",
              "Sex                       NaN      NaN       NaN       NaN       NaN   \n",
              "Capital_Gain      7583.935968      0.0       0.0       0.0       0.0   \n",
              "Capital_Loss       403.105286      0.0       0.0       0.0       0.0   \n",
              "Hours_per_week      12.479332      1.0      40.0      40.0      45.0   \n",
              "Country                   NaN      NaN       NaN       NaN       NaN   \n",
              "Target               0.424776      0.0       0.0       0.0       0.0   \n",
              "\n",
              "                      max  \n",
              "Age                   NaN  \n",
              "Workclass             NaN  \n",
              "fnlwgt          1490400.0  \n",
              "Education             NaN  \n",
              "Education_Num        16.0  \n",
              "Martial_Status        NaN  \n",
              "Occupation            NaN  \n",
              "Relationship          NaN  \n",
              "Race                  NaN  \n",
              "Sex                   NaN  \n",
              "Capital_Gain      99999.0  \n",
              "Capital_Loss       3770.0  \n",
              "Hours_per_week       99.0  \n",
              "Country               NaN  \n",
              "Target                1.0  "
            ]
          },
          "execution_count": 12,
          "metadata": {},
          "output_type": "execute_result"
        }
      ],
      "source": [
        "data_test.describe(include='all').T"
      ]
    },
    {
      "cell_type": "code",
      "execution_count": 13,
      "metadata": {
        "id": "q_s2vTlmkrPw"
      },
      "outputs": [
        {
          "data": {
            "text/plain": [
              "0    24720\n",
              "1     7841\n",
              "Name: Target, dtype: int64"
            ]
          },
          "execution_count": 13,
          "metadata": {},
          "output_type": "execute_result"
        }
      ],
      "source": [
        "data_train['Target'].value_counts()"
      ]
    },
    {
      "cell_type": "code",
      "execution_count": 14,
      "metadata": {
        "id": "2xHx504HkrPx"
      },
      "outputs": [
        {
          "data": {
            "image/png": "[encoded data removed]",
            "text/plain": [
              "<Figure size 2500x1500 with 15 Axes>"
            ]
          },
          "metadata": {},
          "output_type": "display_data"
        }
      ],
      "source": [
        "fig = plt.figure(figsize=(25, 15))\n",
        "cols = 5\n",
        "rows = int(np.ceil(float(data_train.shape[1]) / cols))\n",
        "for i, column in enumerate(data_train.columns):\n",
        "    ax = fig.add_subplot(rows, cols, i + 1)\n",
        "    ax.set_title(column)\n",
        "    if data_train.dtypes[column] == np.object_:\n",
        "        data_train[column].value_counts().plot(kind=\"bar\", axes=ax)\n",
        "    else:\n",
        "        data_train[column].hist(axes=ax)\n",
        "        plt.xticks(rotation=\"vertical\")\n",
        "plt.subplots_adjust(hspace=0.7, wspace=0.2)"
      ]
    },
    {
      "cell_type": "markdown",
      "metadata": {
        "id": "EI_3cbdqkrPx"
      },
      "source": [
        "**Проверяем типы данных**"
      ]
    },
    {
      "cell_type": "code",
      "execution_count": 15,
      "metadata": {
        "id": "tOi16R43krPx"
      },
      "outputs": [
        {
          "data": {
            "text/plain": [
              "Age                int64\n",
              "Workclass         object\n",
              "fnlwgt             int64\n",
              "Education         object\n",
              "Education_Num      int64\n",
              "Martial_Status    object\n",
              "Occupation        object\n",
              "Relationship      object\n",
              "Race              object\n",
              "Sex               object\n",
              "Capital_Gain       int64\n",
              "Capital_Loss       int64\n",
              "Hours_per_week     int64\n",
              "Country           object\n",
              "Target             int64\n",
              "dtype: object"
            ]
          },
          "execution_count": 15,
          "metadata": {},
          "output_type": "execute_result"
        }
      ],
      "source": [
        "data_train.dtypes"
      ]
    },
    {
      "cell_type": "code",
      "execution_count": 16,
      "metadata": {
        "id": "csz1f6rOkrPx"
      },
      "outputs": [
        {
          "data": {
            "text/plain": [
              "Age                object\n",
              "Workclass          object\n",
              "fnlwgt            float64\n",
              "Education          object\n",
              "Education_Num     float64\n",
              "Martial_Status     object\n",
              "Occupation         object\n",
              "Relationship       object\n",
              "Race               object\n",
              "Sex                object\n",
              "Capital_Gain      float64\n",
              "Capital_Loss      float64\n",
              "Hours_per_week    float64\n",
              "Country            object\n",
              "Target              int64\n",
              "dtype: object"
            ]
          },
          "execution_count": 16,
          "metadata": {},
          "output_type": "execute_result"
        }
      ],
      "source": [
        "data_test.dtypes"
      ]
    },
    {
      "cell_type": "markdown",
      "metadata": {
        "id": "EOcYSnGfkrPx"
      },
      "source": [
        "Выяснилось, что в тесте возраст отнесен к типу object, необходимо это исправить."
      ]
    },
    {
      "cell_type": "code",
      "execution_count": 17,
      "metadata": {
        "id": "ZCnd5mRJkrPx"
      },
      "outputs": [],
      "source": [
        "data_test['Age'] = data_test['Age'].astype(int)"
      ]
    },
    {
      "cell_type": "markdown",
      "metadata": {
        "id": "QqMDJuFakrPx"
      },
      "source": [
        "Также приведем показатели типа float в int для соответствия train и test выборок."
      ]
    },
    {
      "cell_type": "code",
      "execution_count": 18,
      "metadata": {
        "id": "9MnF0GawkrPx"
      },
      "outputs": [],
      "source": [
        "data_test['fnlwgt'] = data_test['fnlwgt'].astype(int)\n",
        "data_test['Education_Num'] = data_test['Education_Num'].astype(int)\n",
        "data_test['Capital_Gain'] = data_test['Capital_Gain'].astype(int)\n",
        "data_test['Capital_Loss'] = data_test['Capital_Loss'].astype(int)\n",
        "data_test['Hours_per_week'] = data_test['Hours_per_week'].astype(int)"
      ]
    },
    {
      "cell_type": "markdown",
      "metadata": {
        "id": "BBl0rEyTkrPx"
      },
      "source": [
        "**Заполним пропуски в количественных полях медианными значениями, а в категориальных – наиболее часто встречающимся значением**"
      ]
    },
    {
      "cell_type": "code",
      "execution_count": 19,
      "metadata": {
        "id": "Pq8242yWkrPx"
      },
      "outputs": [
        {
          "name": "stdout",
          "output_type": "stream",
          "text": [
            "categorical_columns_test: ['Workclass', 'Education', 'Martial_Status', 'Occupation', 'Relationship', 'Race', 'Sex', 'Country']\n",
            "categorical_columns_train: ['Workclass', 'Education', 'Martial_Status', 'Occupation', 'Relationship', 'Race', 'Sex', 'Country']\n",
            "numerical_columns_test: ['Age', 'fnlwgt', 'Education_Num', 'Capital_Gain', 'Capital_Loss', 'Hours_per_week', 'Target']\n",
            "numerical_columns_train: ['Age', 'fnlwgt', 'Education_Num', 'Capital_Gain', 'Capital_Loss', 'Hours_per_week', 'Target']\n"
          ]
        }
      ],
      "source": [
        "# выделим в выборках категориальные и числовые поля\n",
        "\n",
        "categorical_columns_train = [c for c in data_train.columns \n",
        "                             if data_train[c].dtype.name == 'object']\n",
        "numerical_columns_train = [c for c in data_train.columns \n",
        "                           if data_train[c].dtype.name != 'object']\n",
        "\n",
        "categorical_columns_test = [c for c in data_test.columns \n",
        "                            if data_test[c].dtype.name == 'object']\n",
        "numerical_columns_test = [c for c in data_test.columns \n",
        "                          if data_test[c].dtype.name != 'object']\n",
        "\n",
        "print('categorical_columns_test:', categorical_columns_test)\n",
        "print('categorical_columns_train:', categorical_columns_train)\n",
        "print('numerical_columns_test:', numerical_columns_test)\n",
        "print('numerical_columns_train:', numerical_columns_train)"
      ]
    },
    {
      "cell_type": "code",
      "execution_count": 20,
      "metadata": {
        "id": "SnlvPqx7krPy"
      },
      "outputs": [],
      "source": [
        "# заполним пропуски\n",
        "\n",
        "for c in categorical_columns_train:\n",
        "    data_train[c] = data_train[c].fillna(data_train[c].mode())\n",
        "for c in categorical_columns_test:\n",
        "    data_test[c] = data_test[c].fillna(data_train[c].mode())\n",
        "    \n",
        "for c in numerical_columns_train:\n",
        "    data_train[c] = data_train[c].fillna(data_train[c].median())\n",
        "for c in numerical_columns_test:\n",
        "    data_test[c] = data_test[c].fillna(data_train[c].median())    "
      ]
    },
    {
      "cell_type": "markdown",
      "metadata": {
        "id": "sKSWdjYokrPy"
      },
      "source": [
        "**Кодируем категориальные признаки 'Workclass', 'Education', 'Martial_Status', 'Occupation', 'Relationship', 'Race', 'Sex', 'Country'. Это можно сделать с помощью метода `pandas get_dummies`.**"
      ]
    },
    {
      "cell_type": "code",
      "execution_count": 21,
      "metadata": {
        "id": "pg96SrIwkrPy"
      },
      "outputs": [],
      "source": [
        "data_train = pd.concat([data_train, pd.get_dummies(data_train['Workclass'], \n",
        "                                                   prefix=\"Workclass\"),\n",
        "                      pd.get_dummies(data_train['Education'], prefix=\"Education\"),\n",
        "                      pd.get_dummies(data_train['Martial_Status'], prefix=\"Martial_Status\"),\n",
        "                      pd.get_dummies(data_train['Occupation'], prefix=\"Occupation\"),\n",
        "                      pd.get_dummies(data_train['Relationship'], prefix=\"Relationship\"),\n",
        "                      pd.get_dummies(data_train['Race'], prefix=\"Race\"),\n",
        "                      pd.get_dummies(data_train['Sex'], prefix=\"Sex\"),\n",
        "                      pd.get_dummies(data_train['Country'], prefix=\"Country\")],\n",
        "                     axis=1)\n",
        "\n",
        "data_test = pd.concat([data_test, pd.get_dummies(data_test['Workclass'], prefix=\"Workclass\"),\n",
        "                      pd.get_dummies(data_test['Education'], prefix=\"Education\"),\n",
        "                      pd.get_dummies(data_test['Martial_Status'], prefix=\"Martial_Status\"),\n",
        "                      pd.get_dummies(data_test['Occupation'], prefix=\"Occupation\"),\n",
        "                      pd.get_dummies(data_test['Relationship'], prefix=\"Relationship\"),\n",
        "                      pd.get_dummies(data_test['Race'], prefix=\"Race\"),\n",
        "                      pd.get_dummies(data_test['Sex'], prefix=\"Sex\"),\n",
        "                      pd.get_dummies(data_test['Country'], prefix=\"Country\")],\n",
        "                     axis=1)"
      ]
    },
    {
      "cell_type": "code",
      "execution_count": 22,
      "metadata": {
        "id": "PCya-CpJkrPy"
      },
      "outputs": [],
      "source": [
        "data_train.drop(['Workclass', 'Education', 'Martial_Status',\n",
        "                 'Occupation', 'Relationship', 'Race', 'Sex', 'Country'],\n",
        "                axis=1, inplace=True)\n",
        "data_test.drop(['Workclass', 'Education', 'Martial_Status', 'Occupation', \n",
        "                'Relationship', 'Race', 'Sex', 'Country'],\n",
        "               axis=1, inplace=True)"
      ]
    },
    {
      "cell_type": "code",
      "execution_count": 23,
      "metadata": {
        "id": "7NFvuH6YkrPy"
      },
      "outputs": [
        {
          "data": {
            "text/html": [
              "<div>\n",
              "<style scoped>\n",
              "    .dataframe tbody tr th:only-of-type {\n",
              "        vertical-align: middle;\n",
              "    }\n",
              "\n",
              "    .dataframe tbody tr th {\n",
              "        vertical-align: top;\n",
              "    }\n",
              "\n",
              "    .dataframe thead th {\n",
              "        text-align: right;\n",
              "    }\n",
              "</style>\n",
              "<table border=\"1\" class=\"dataframe\">\n",
              "  <thead>\n",
              "    <tr style=\"text-align: right;\">\n",
              "      <th></th>\n",
              "      <th>count</th>\n",
              "      <th>mean</th>\n",
              "      <th>std</th>\n",
              "      <th>min</th>\n",
              "      <th>25%</th>\n",
              "      <th>50%</th>\n",
              "      <th>75%</th>\n",
              "      <th>max</th>\n",
              "    </tr>\n",
              "  </thead>\n",
              "  <tbody>\n",
              "    <tr>\n",
              "      <th>Age</th>\n",
              "      <td>16281.0</td>\n",
              "      <td>38.767459</td>\n",
              "      <td>13.849187</td>\n",
              "      <td>17.0</td>\n",
              "      <td>28.0</td>\n",
              "      <td>37.0</td>\n",
              "      <td>48.0</td>\n",
              "      <td>90.0</td>\n",
              "    </tr>\n",
              "    <tr>\n",
              "      <th>fnlwgt</th>\n",
              "      <td>16281.0</td>\n",
              "      <td>189435.677784</td>\n",
              "      <td>105714.907671</td>\n",
              "      <td>13492.0</td>\n",
              "      <td>116736.0</td>\n",
              "      <td>177831.0</td>\n",
              "      <td>238384.0</td>\n",
              "      <td>1490400.0</td>\n",
              "    </tr>\n",
              "    <tr>\n",
              "      <th>Education_Num</th>\n",
              "      <td>16281.0</td>\n",
              "      <td>10.072907</td>\n",
              "      <td>2.567545</td>\n",
              "      <td>1.0</td>\n",
              "      <td>9.0</td>\n",
              "      <td>10.0</td>\n",
              "      <td>12.0</td>\n",
              "      <td>16.0</td>\n",
              "    </tr>\n",
              "    <tr>\n",
              "      <th>Capital_Gain</th>\n",
              "      <td>16281.0</td>\n",
              "      <td>1081.905104</td>\n",
              "      <td>7583.935968</td>\n",
              "      <td>0.0</td>\n",
              "      <td>0.0</td>\n",
              "      <td>0.0</td>\n",
              "      <td>0.0</td>\n",
              "      <td>99999.0</td>\n",
              "    </tr>\n",
              "    <tr>\n",
              "      <th>Capital_Loss</th>\n",
              "      <td>16281.0</td>\n",
              "      <td>87.899269</td>\n",
              "      <td>403.105286</td>\n",
              "      <td>0.0</td>\n",
              "      <td>0.0</td>\n",
              "      <td>0.0</td>\n",
              "      <td>0.0</td>\n",
              "      <td>3770.0</td>\n",
              "    </tr>\n",
              "    <tr>\n",
              "      <th>...</th>\n",
              "      <td>...</td>\n",
              "      <td>...</td>\n",
              "      <td>...</td>\n",
              "      <td>...</td>\n",
              "      <td>...</td>\n",
              "      <td>...</td>\n",
              "      <td>...</td>\n",
              "      <td>...</td>\n",
              "    </tr>\n",
              "    <tr>\n",
              "      <th>Country_ Thailand</th>\n",
              "      <td>16281.0</td>\n",
              "      <td>0.000737</td>\n",
              "      <td>0.027140</td>\n",
              "      <td>0.0</td>\n",
              "      <td>0.0</td>\n",
              "      <td>0.0</td>\n",
              "      <td>0.0</td>\n",
              "      <td>1.0</td>\n",
              "    </tr>\n",
              "    <tr>\n",
              "      <th>Country_ Trinadad&amp;Tobago</th>\n",
              "      <td>16281.0</td>\n",
              "      <td>0.000491</td>\n",
              "      <td>0.022162</td>\n",
              "      <td>0.0</td>\n",
              "      <td>0.0</td>\n",
              "      <td>0.0</td>\n",
              "      <td>0.0</td>\n",
              "      <td>1.0</td>\n",
              "    </tr>\n",
              "    <tr>\n",
              "      <th>Country_ United-States</th>\n",
              "      <td>16281.0</td>\n",
              "      <td>0.900559</td>\n",
              "      <td>0.299262</td>\n",
              "      <td>0.0</td>\n",
              "      <td>1.0</td>\n",
              "      <td>1.0</td>\n",
              "      <td>1.0</td>\n",
              "      <td>1.0</td>\n",
              "    </tr>\n",
              "    <tr>\n",
              "      <th>Country_ Vietnam</th>\n",
              "      <td>16281.0</td>\n",
              "      <td>0.001167</td>\n",
              "      <td>0.034143</td>\n",
              "      <td>0.0</td>\n",
              "      <td>0.0</td>\n",
              "      <td>0.0</td>\n",
              "      <td>0.0</td>\n",
              "      <td>1.0</td>\n",
              "    </tr>\n",
              "    <tr>\n",
              "      <th>Country_ Yugoslavia</th>\n",
              "      <td>16281.0</td>\n",
              "      <td>0.000430</td>\n",
              "      <td>0.020731</td>\n",
              "      <td>0.0</td>\n",
              "      <td>0.0</td>\n",
              "      <td>0.0</td>\n",
              "      <td>0.0</td>\n",
              "      <td>1.0</td>\n",
              "    </tr>\n",
              "  </tbody>\n",
              "</table>\n",
              "<p>105 rows × 8 columns</p>\n",
              "</div>"
            ],
            "text/plain": [
              "                            count           mean            std      min  \\\n",
              "Age                       16281.0      38.767459      13.849187     17.0   \n",
              "fnlwgt                    16281.0  189435.677784  105714.907671  13492.0   \n",
              "Education_Num             16281.0      10.072907       2.567545      1.0   \n",
              "Capital_Gain              16281.0    1081.905104    7583.935968      0.0   \n",
              "Capital_Loss              16281.0      87.899269     403.105286      0.0   \n",
              "...                           ...            ...            ...      ...   \n",
              "Country_ Thailand         16281.0       0.000737       0.027140      0.0   \n",
              "Country_ Trinadad&Tobago  16281.0       0.000491       0.022162      0.0   \n",
              "Country_ United-States    16281.0       0.900559       0.299262      0.0   \n",
              "Country_ Vietnam          16281.0       0.001167       0.034143      0.0   \n",
              "Country_ Yugoslavia       16281.0       0.000430       0.020731      0.0   \n",
              "\n",
              "                               25%       50%       75%        max  \n",
              "Age                           28.0      37.0      48.0       90.0  \n",
              "fnlwgt                    116736.0  177831.0  238384.0  1490400.0  \n",
              "Education_Num                  9.0      10.0      12.0       16.0  \n",
              "Capital_Gain                   0.0       0.0       0.0    99999.0  \n",
              "Capital_Loss                   0.0       0.0       0.0     3770.0  \n",
              "...                            ...       ...       ...        ...  \n",
              "Country_ Thailand              0.0       0.0       0.0        1.0  \n",
              "Country_ Trinadad&Tobago       0.0       0.0       0.0        1.0  \n",
              "Country_ United-States         1.0       1.0       1.0        1.0  \n",
              "Country_ Vietnam               0.0       0.0       0.0        1.0  \n",
              "Country_ Yugoslavia            0.0       0.0       0.0        1.0  \n",
              "\n",
              "[105 rows x 8 columns]"
            ]
          },
          "execution_count": 23,
          "metadata": {},
          "output_type": "execute_result"
        }
      ],
      "source": [
        "data_test.describe(include='all').T"
      ]
    },
    {
      "cell_type": "code",
      "execution_count": 24,
      "metadata": {
        "id": "qHSiSje5krPy"
      },
      "outputs": [
        {
          "data": {
            "text/plain": [
              "{'Country_ Holand-Netherlands'}"
            ]
          },
          "execution_count": 24,
          "metadata": {},
          "output_type": "execute_result"
        }
      ],
      "source": [
        "set(data_train.columns) - set(data_test.columns)"
      ]
    },
    {
      "cell_type": "code",
      "execution_count": 25,
      "metadata": {
        "id": "XxiQajKKkrPy"
      },
      "outputs": [
        {
          "data": {
            "text/plain": [
              "((32561, 106), (16281, 105))"
            ]
          },
          "execution_count": 25,
          "metadata": {},
          "output_type": "execute_result"
        }
      ],
      "source": [
        "data_train.shape, data_test.shape"
      ]
    },
    {
      "cell_type": "markdown",
      "metadata": {
        "id": "DSr-qI-nkrPy"
      },
      "source": [
        "**В тестовой выборке не оказалось Голландии. Заведем необходимый признак из нулей.**"
      ]
    },
    {
      "cell_type": "code",
      "execution_count": 26,
      "metadata": {
        "id": "bylgyNrkkrPy"
      },
      "outputs": [],
      "source": [
        "data_test['Country_ Holand-Netherlands'] = np.zeros([data_test.shape[0], 1])"
      ]
    },
    {
      "cell_type": "code",
      "execution_count": 27,
      "metadata": {
        "id": "_T7o9HoikrPy"
      },
      "outputs": [
        {
          "data": {
            "text/plain": [
              "set()"
            ]
          },
          "execution_count": 27,
          "metadata": {},
          "output_type": "execute_result"
        }
      ],
      "source": [
        "set(data_train.columns) - set(data_test.columns)"
      ]
    },
    {
      "cell_type": "code",
      "execution_count": 28,
      "metadata": {
        "id": "FlQ85AWhkrPy"
      },
      "outputs": [
        {
          "data": {
            "text/html": [
              "<div>\n",
              "<style scoped>\n",
              "    .dataframe tbody tr th:only-of-type {\n",
              "        vertical-align: middle;\n",
              "    }\n",
              "\n",
              "    .dataframe tbody tr th {\n",
              "        vertical-align: top;\n",
              "    }\n",
              "\n",
              "    .dataframe thead th {\n",
              "        text-align: right;\n",
              "    }\n",
              "</style>\n",
              "<table border=\"1\" class=\"dataframe\">\n",
              "  <thead>\n",
              "    <tr style=\"text-align: right;\">\n",
              "      <th></th>\n",
              "      <th>Age</th>\n",
              "      <th>fnlwgt</th>\n",
              "      <th>Education_Num</th>\n",
              "      <th>Capital_Gain</th>\n",
              "      <th>Capital_Loss</th>\n",
              "      <th>Hours_per_week</th>\n",
              "      <th>Target</th>\n",
              "      <th>Workclass_ Federal-gov</th>\n",
              "      <th>Workclass_ Local-gov</th>\n",
              "      <th>Workclass_ Never-worked</th>\n",
              "      <th>...</th>\n",
              "      <th>Country_ Portugal</th>\n",
              "      <th>Country_ Puerto-Rico</th>\n",
              "      <th>Country_ Scotland</th>\n",
              "      <th>Country_ South</th>\n",
              "      <th>Country_ Taiwan</th>\n",
              "      <th>Country_ Thailand</th>\n",
              "      <th>Country_ Trinadad&amp;Tobago</th>\n",
              "      <th>Country_ United-States</th>\n",
              "      <th>Country_ Vietnam</th>\n",
              "      <th>Country_ Yugoslavia</th>\n",
              "    </tr>\n",
              "  </thead>\n",
              "  <tbody>\n",
              "    <tr>\n",
              "      <th>0</th>\n",
              "      <td>39</td>\n",
              "      <td>77516</td>\n",
              "      <td>13</td>\n",
              "      <td>2174</td>\n",
              "      <td>0</td>\n",
              "      <td>40</td>\n",
              "      <td>0</td>\n",
              "      <td>0</td>\n",
              "      <td>0</td>\n",
              "      <td>0</td>\n",
              "      <td>...</td>\n",
              "      <td>0</td>\n",
              "      <td>0</td>\n",
              "      <td>0</td>\n",
              "      <td>0</td>\n",
              "      <td>0</td>\n",
              "      <td>0</td>\n",
              "      <td>0</td>\n",
              "      <td>1</td>\n",
              "      <td>0</td>\n",
              "      <td>0</td>\n",
              "    </tr>\n",
              "    <tr>\n",
              "      <th>1</th>\n",
              "      <td>50</td>\n",
              "      <td>83311</td>\n",
              "      <td>13</td>\n",
              "      <td>0</td>\n",
              "      <td>0</td>\n",
              "      <td>13</td>\n",
              "      <td>0</td>\n",
              "      <td>0</td>\n",
              "      <td>0</td>\n",
              "      <td>0</td>\n",
              "      <td>...</td>\n",
              "      <td>0</td>\n",
              "      <td>0</td>\n",
              "      <td>0</td>\n",
              "      <td>0</td>\n",
              "      <td>0</td>\n",
              "      <td>0</td>\n",
              "      <td>0</td>\n",
              "      <td>1</td>\n",
              "      <td>0</td>\n",
              "      <td>0</td>\n",
              "    </tr>\n",
              "  </tbody>\n",
              "</table>\n",
              "<p>2 rows × 106 columns</p>\n",
              "</div>"
            ],
            "text/plain": [
              "   Age  fnlwgt  Education_Num  Capital_Gain  Capital_Loss  Hours_per_week  \\\n",
              "0   39   77516             13          2174             0              40   \n",
              "1   50   83311             13             0             0              13   \n",
              "\n",
              "   Target  Workclass_ Federal-gov  Workclass_ Local-gov  \\\n",
              "0       0                       0                     0   \n",
              "1       0                       0                     0   \n",
              "\n",
              "   Workclass_ Never-worked  ...  Country_ Portugal  Country_ Puerto-Rico  \\\n",
              "0                        0  ...                  0                     0   \n",
              "1                        0  ...                  0                     0   \n",
              "\n",
              "   Country_ Scotland  Country_ South  Country_ Taiwan  Country_ Thailand  \\\n",
              "0                  0               0                0                  0   \n",
              "1                  0               0                0                  0   \n",
              "\n",
              "   Country_ Trinadad&Tobago  Country_ United-States  Country_ Vietnam  \\\n",
              "0                         0                       1                 0   \n",
              "1                         0                       1                 0   \n",
              "\n",
              "   Country_ Yugoslavia  \n",
              "0                    0  \n",
              "1                    0  \n",
              "\n",
              "[2 rows x 106 columns]"
            ]
          },
          "execution_count": 28,
          "metadata": {},
          "output_type": "execute_result"
        }
      ],
      "source": [
        "data_train.head(2)"
      ]
    },
    {
      "cell_type": "code",
      "execution_count": 29,
      "metadata": {
        "id": "avNk3pfakrPy"
      },
      "outputs": [
        {
          "data": {
            "text/html": [
              "<div>\n",
              "<style scoped>\n",
              "    .dataframe tbody tr th:only-of-type {\n",
              "        vertical-align: middle;\n",
              "    }\n",
              "\n",
              "    .dataframe tbody tr th {\n",
              "        vertical-align: top;\n",
              "    }\n",
              "\n",
              "    .dataframe thead th {\n",
              "        text-align: right;\n",
              "    }\n",
              "</style>\n",
              "<table border=\"1\" class=\"dataframe\">\n",
              "  <thead>\n",
              "    <tr style=\"text-align: right;\">\n",
              "      <th></th>\n",
              "      <th>Age</th>\n",
              "      <th>fnlwgt</th>\n",
              "      <th>Education_Num</th>\n",
              "      <th>Capital_Gain</th>\n",
              "      <th>Capital_Loss</th>\n",
              "      <th>Hours_per_week</th>\n",
              "      <th>Target</th>\n",
              "      <th>Workclass_ Federal-gov</th>\n",
              "      <th>Workclass_ Local-gov</th>\n",
              "      <th>Workclass_ Never-worked</th>\n",
              "      <th>...</th>\n",
              "      <th>Country_ Puerto-Rico</th>\n",
              "      <th>Country_ Scotland</th>\n",
              "      <th>Country_ South</th>\n",
              "      <th>Country_ Taiwan</th>\n",
              "      <th>Country_ Thailand</th>\n",
              "      <th>Country_ Trinadad&amp;Tobago</th>\n",
              "      <th>Country_ United-States</th>\n",
              "      <th>Country_ Vietnam</th>\n",
              "      <th>Country_ Yugoslavia</th>\n",
              "      <th>Country_ Holand-Netherlands</th>\n",
              "    </tr>\n",
              "  </thead>\n",
              "  <tbody>\n",
              "    <tr>\n",
              "      <th>1</th>\n",
              "      <td>25</td>\n",
              "      <td>226802</td>\n",
              "      <td>7</td>\n",
              "      <td>0</td>\n",
              "      <td>0</td>\n",
              "      <td>40</td>\n",
              "      <td>0</td>\n",
              "      <td>0</td>\n",
              "      <td>0</td>\n",
              "      <td>0</td>\n",
              "      <td>...</td>\n",
              "      <td>0</td>\n",
              "      <td>0</td>\n",
              "      <td>0</td>\n",
              "      <td>0</td>\n",
              "      <td>0</td>\n",
              "      <td>0</td>\n",
              "      <td>1</td>\n",
              "      <td>0</td>\n",
              "      <td>0</td>\n",
              "      <td>0.0</td>\n",
              "    </tr>\n",
              "    <tr>\n",
              "      <th>2</th>\n",
              "      <td>38</td>\n",
              "      <td>89814</td>\n",
              "      <td>9</td>\n",
              "      <td>0</td>\n",
              "      <td>0</td>\n",
              "      <td>50</td>\n",
              "      <td>0</td>\n",
              "      <td>0</td>\n",
              "      <td>0</td>\n",
              "      <td>0</td>\n",
              "      <td>...</td>\n",
              "      <td>0</td>\n",
              "      <td>0</td>\n",
              "      <td>0</td>\n",
              "      <td>0</td>\n",
              "      <td>0</td>\n",
              "      <td>0</td>\n",
              "      <td>1</td>\n",
              "      <td>0</td>\n",
              "      <td>0</td>\n",
              "      <td>0.0</td>\n",
              "    </tr>\n",
              "  </tbody>\n",
              "</table>\n",
              "<p>2 rows × 106 columns</p>\n",
              "</div>"
            ],
            "text/plain": [
              "   Age  fnlwgt  Education_Num  Capital_Gain  Capital_Loss  Hours_per_week  \\\n",
              "1   25  226802              7             0             0              40   \n",
              "2   38   89814              9             0             0              50   \n",
              "\n",
              "   Target  Workclass_ Federal-gov  Workclass_ Local-gov  \\\n",
              "1       0                       0                     0   \n",
              "2       0                       0                     0   \n",
              "\n",
              "   Workclass_ Never-worked  ...  Country_ Puerto-Rico  Country_ Scotland  \\\n",
              "1                        0  ...                     0                  0   \n",
              "2                        0  ...                     0                  0   \n",
              "\n",
              "   Country_ South  Country_ Taiwan  Country_ Thailand  \\\n",
              "1               0                0                  0   \n",
              "2               0                0                  0   \n",
              "\n",
              "   Country_ Trinadad&Tobago  Country_ United-States  Country_ Vietnam  \\\n",
              "1                         0                       1                 0   \n",
              "2                         0                       1                 0   \n",
              "\n",
              "   Country_ Yugoslavia  Country_ Holand-Netherlands  \n",
              "1                    0                          0.0  \n",
              "2                    0                          0.0  \n",
              "\n",
              "[2 rows x 106 columns]"
            ]
          },
          "execution_count": 29,
          "metadata": {},
          "output_type": "execute_result"
        }
      ],
      "source": [
        "data_test.head(2)"
      ]
    },
    {
      "cell_type": "code",
      "execution_count": 30,
      "metadata": {
        "id": "GxLiu4bCkrPy"
      },
      "outputs": [],
      "source": [
        "X_train=data_train.drop(['Target'], axis=1)\n",
        "y_train = data_train['Target']\n",
        "\n",
        "X_test=data_test.drop(['Target'], axis=1)\n",
        "y_test = data_test['Target']"
      ]
    },
    {
      "cell_type": "code",
      "execution_count": 31,
      "metadata": {},
      "outputs": [],
      "source": [
        "# Put columns name in same order for removing DecisionTreeClassifier warnings\n",
        "X_train = X_train.reindex(sorted(X_train.columns), axis=1)\n",
        "X_test = X_test.reindex(sorted(X_test.columns), axis=1)"
      ]
    },
    {
      "cell_type": "markdown",
      "metadata": {
        "id": "mduhjLzxkrPy"
      },
      "source": [
        "## 2.1. Дерево решений без настройки параметров (5 баллов)"
      ]
    },
    {
      "cell_type": "markdown",
      "metadata": {
        "id": "lJlOdtRzkrPy"
      },
      "source": [
        "**Обучите на имеющейся выборке дерево решений (`DecisionTreeClassifier`) максимальной глубины 3 и получите качество на тесте. Используйте параметр `random_state` = 17 для воспроизводимости результатов.**"
      ]
    },
    {
      "cell_type": "code",
      "execution_count": 32,
      "metadata": {
        "id": "KfbhvD2OkrPy"
      },
      "outputs": [
        {
          "data": {
            "text/html": [
              "<style>#sk-container-id-1 {color: black;background-color: white;}#sk-container-id-1 pre{padding: 0;}#sk-container-id-1 div.sk-toggleable {background-color: white;}#sk-container-id-1 label.sk-toggleable__label {cursor: pointer;display: block;width: 100%;margin-bottom: 0;padding: 0.3em;box-sizing: border-box;text-align: center;}#sk-container-id-1 label.sk-toggleable__label-arrow:before {content: \"▸\";float: left;margin-right: 0.25em;color: #696969;}#sk-container-id-1 label.sk-toggleable__label-arrow:hover:before {color: black;}#sk-container-id-1 div.sk-estimator:hover label.sk-toggleable__label-arrow:before {color: black;}#sk-container-id-1 div.sk-toggleable__content {max-height: 0;max-width: 0;overflow: hidden;text-align: left;background-color: #f0f8ff;}#sk-container-id-1 div.sk-toggleable__content pre {margin: 0.2em;color: black;border-radius: 0.25em;background-color: #f0f8ff;}#sk-container-id-1 input.sk-toggleable__control:checked~div.sk-toggleable__content {max-height: 200px;max-width: 100%;overflow: auto;}#sk-container-id-1 input.sk-toggleable__control:checked~label.sk-toggleable__label-arrow:before {content: \"▾\";}#sk-container-id-1 div.sk-estimator input.sk-toggleable__control:checked~label.sk-toggleable__label {background-color: #d4ebff;}#sk-container-id-1 div.sk-label input.sk-toggleable__control:checked~label.sk-toggleable__label {background-color: #d4ebff;}#sk-container-id-1 input.sk-hidden--visually {border: 0;clip: rect(1px 1px 1px 1px);clip: rect(1px, 1px, 1px, 1px);height: 1px;margin: -1px;overflow: hidden;padding: 0;position: absolute;width: 1px;}#sk-container-id-1 div.sk-estimator {font-family: monospace;background-color: #f0f8ff;border: 1px dotted black;border-radius: 0.25em;box-sizing: border-box;margin-bottom: 0.5em;}#sk-container-id-1 div.sk-estimator:hover {background-color: #d4ebff;}#sk-container-id-1 div.sk-parallel-item::after {content: \"\";width: 100%;border-bottom: 1px solid gray;flex-grow: 1;}#sk-container-id-1 div.sk-label:hover label.sk-toggleable__label {background-color: #d4ebff;}#sk-container-id-1 div.sk-serial::before {content: \"\";position: absolute;border-left: 1px solid gray;box-sizing: border-box;top: 0;bottom: 0;left: 50%;z-index: 0;}#sk-container-id-1 div.sk-serial {display: flex;flex-direction: column;align-items: center;background-color: white;padding-right: 0.2em;padding-left: 0.2em;position: relative;}#sk-container-id-1 div.sk-item {position: relative;z-index: 1;}#sk-container-id-1 div.sk-parallel {display: flex;align-items: stretch;justify-content: center;background-color: white;position: relative;}#sk-container-id-1 div.sk-item::before, #sk-container-id-1 div.sk-parallel-item::before {content: \"\";position: absolute;border-left: 1px solid gray;box-sizing: border-box;top: 0;bottom: 0;left: 50%;z-index: -1;}#sk-container-id-1 div.sk-parallel-item {display: flex;flex-direction: column;z-index: 1;position: relative;background-color: white;}#sk-container-id-1 div.sk-parallel-item:first-child::after {align-self: flex-end;width: 50%;}#sk-container-id-1 div.sk-parallel-item:last-child::after {align-self: flex-start;width: 50%;}#sk-container-id-1 div.sk-parallel-item:only-child::after {width: 0;}#sk-container-id-1 div.sk-dashed-wrapped {border: 1px dashed gray;margin: 0 0.4em 0.5em 0.4em;box-sizing: border-box;padding-bottom: 0.4em;background-color: white;}#sk-container-id-1 div.sk-label label {font-family: monospace;font-weight: bold;display: inline-block;line-height: 1.2em;}#sk-container-id-1 div.sk-label-container {text-align: center;}#sk-container-id-1 div.sk-container {/* jupyter's `normalize.less` sets `[hidden] { display: none; }` but bootstrap.min.css set `[hidden] { display: none !important; }` so we also need the `!important` here to be able to override the default hidden behavior on the sphinx rendered scikit-learn.org. See: https://github.com/scikit-learn/scikit-learn/issues/21755 */display: inline-block !important;position: relative;}#sk-container-id-1 div.sk-text-repr-fallback {display: none;}</style><div id=\"sk-container-id-1\" class=\"sk-top-container\"><div class=\"sk-text-repr-fallback\"><pre>DecisionTreeClassifier(max_depth=3, random_state=17)</pre><b>In a Jupyter environment, please rerun this cell to show the HTML representation or trust the notebook. <br />On GitHub, the HTML representation is unable to render, please try loading this page with nbviewer.org.</b></div><div class=\"sk-container\" hidden><div class=\"sk-item\"><div class=\"sk-estimator sk-toggleable\"><input class=\"sk-toggleable__control sk-hidden--visually\" id=\"sk-estimator-id-1\" type=\"checkbox\" checked><label for=\"sk-estimator-id-1\" class=\"sk-toggleable__label sk-toggleable__label-arrow\">DecisionTreeClassifier</label><div class=\"sk-toggleable__content\"><pre>DecisionTreeClassifier(max_depth=3, random_state=17)</pre></div></div></div></div></div>"
            ],
            "text/plain": [
              "DecisionTreeClassifier(max_depth=3, random_state=17)"
            ]
          },
          "execution_count": 32,
          "metadata": {},
          "output_type": "execute_result"
        }
      ],
      "source": [
        "tree = DecisionTreeClassifier(max_depth=3, random_state=17)\n",
        "tree.fit(X_train, y_train)"
      ]
    },
    {
      "cell_type": "markdown",
      "metadata": {
        "id": "tjzBtdTEkrPy"
      },
      "source": [
        "**Сделайте с помощью полученной модели прогноз для тестовой выборки.**"
      ]
    },
    {
      "cell_type": "code",
      "execution_count": 33,
      "metadata": {
        "id": "Oo704KgOkrPy"
      },
      "outputs": [],
      "source": [
        "tree_predictions = tree.predict(X_test)"
      ]
    },
    {
      "cell_type": "code",
      "execution_count": 34,
      "metadata": {
        "id": "m7slWJ36krPy"
      },
      "outputs": [
        {
          "name": "stdout",
          "output_type": "stream",
          "text": [
            "Accuracy of Decision Tree 0.84\n"
          ]
        }
      ],
      "source": [
        "print(\"Accuracy of Decision Tree %.2f\"%(accuracy_score(y_test, tree_predictions)))"
      ]
    },
    {
      "cell_type": "markdown",
      "metadata": {
        "id": "rB1etT2QkrPz"
      },
      "source": [
        "Какова доля правильных ответов дерева решений на тестовой выборке при максимальной глубине дерева = 3 и random_state = 17?\n",
        "\n",
        "Ответ: 0.84"
      ]
    },
    {
      "cell_type": "markdown",
      "metadata": {
        "id": "AL5hC9IjkrPz"
      },
      "source": [
        "## 2.2. Дерево решений с настройкой параметров (5 баллов)"
      ]
    },
    {
      "cell_type": "markdown",
      "metadata": {
        "id": "aFO4izelkrPz"
      },
      "source": [
        "**Обучите на имеющейся выборке дерево решений (`DecisionTreeClassifier`, опять `random_state` = 17 ). Максимальную глубину настройте на кросс-валидации с помощью `GridSearchCV`.**"
      ]
    },
    {
      "cell_type": "code",
      "execution_count": 35,
      "metadata": {
        "id": "xpuyWXtLkrPz"
      },
      "outputs": [
        {
          "name": "stdout",
          "output_type": "stream",
          "text": [
            "Fitting 20 folds for each of 9 candidates, totalling 180 fits\n",
            "[CV] END ........................................max_depth=2; total time=   0.1s\n",
            "[CV] END ........................................max_depth=2; total time=   0.2s\n",
            "[CV] END ........................................max_depth=2; total time=   0.2s\n",
            "[CV] END ........................................max_depth=2; total time=   0.2s\n",
            "[CV] END ........................................max_depth=2; total time=   0.2s\n",
            "[CV] END ........................................max_depth=2; total time=   0.2s\n",
            "[CV] END ........................................max_depth=2; total time=   0.2s\n",
            "[CV] END ........................................max_depth=2; total time=   0.2s\n",
            "[CV] END ........................................max_depth=2; total time=   0.2s\n",
            "[CV] END ........................................max_depth=2; total time=   0.2s\n",
            "[CV] END ........................................max_depth=2; total time=   0.2s\n",
            "[CV] END ........................................max_depth=2; total time=   0.2s\n",
            "[CV] END ........................................max_depth=2; total time=   0.2s\n",
            "[CV] END ........................................max_depth=2; total time=   0.2s\n",
            "[CV] END ........................................max_depth=2; total time=   0.2s\n",
            "[CV] END ........................................max_depth=2; total time=   0.1s\n",
            "[CV] END ........................................max_depth=2; total time=   0.1s\n",
            "[CV] END ........................................max_depth=2; total time=   0.1s\n",
            "[CV] END ........................................max_depth=2; total time=   0.1s\n",
            "[CV] END ........................................max_depth=2; total time=   0.1s\n",
            "[CV] END ........................................max_depth=3; total time=   0.1s\n",
            "[CV] END ........................................max_depth=3; total time=   0.1s\n",
            "[CV] END ........................................max_depth=3; total time=   0.2s\n",
            "[CV] END ........................................max_depth=3; total time=   0.1s\n",
            "[CV] END ........................................max_depth=3; total time=   0.2s\n",
            "[CV] END ........................................max_depth=3; total time=   0.1s\n",
            "[CV] END ........................................max_depth=3; total time=   0.1s\n",
            "[CV] END ........................................max_depth=3; total time=   0.1s\n",
            "[CV] END ........................................max_depth=3; total time=   0.2s\n",
            "[CV] END ........................................max_depth=3; total time=   0.2s\n",
            "[CV] END ........................................max_depth=3; total time=   0.2s\n",
            "[CV] END ........................................max_depth=3; total time=   0.2s\n",
            "[CV] END ........................................max_depth=3; total time=   0.2s\n",
            "[CV] END ........................................max_depth=3; total time=   0.2s\n",
            "[CV] END ........................................max_depth=3; total time=   0.2s\n",
            "[CV] END ........................................max_depth=3; total time=   0.2s\n",
            "[CV] END ........................................max_depth=3; total time=   0.2s\n",
            "[CV] END ........................................max_depth=3; total time=   0.2s\n",
            "[CV] END ........................................max_depth=3; total time=   0.2s\n",
            "[CV] END ........................................max_depth=3; total time=   0.2s\n",
            "[CV] END ........................................max_depth=4; total time=   0.2s\n",
            "[CV] END ........................................max_depth=4; total time=   0.2s\n",
            "[CV] END ........................................max_depth=4; total time=   0.2s\n",
            "[CV] END ........................................max_depth=4; total time=   0.2s\n",
            "[CV] END ........................................max_depth=4; total time=   0.2s\n",
            "[CV] END ........................................max_depth=4; total time=   0.2s\n",
            "[CV] END ........................................max_depth=4; total time=   0.2s\n",
            "[CV] END ........................................max_depth=4; total time=   0.2s\n",
            "[CV] END ........................................max_depth=4; total time=   0.2s\n",
            "[CV] END ........................................max_depth=4; total time=   0.2s\n",
            "[CV] END ........................................max_depth=4; total time=   0.2s\n",
            "[CV] END ........................................max_depth=4; total time=   0.2s\n",
            "[CV] END ........................................max_depth=4; total time=   0.2s\n",
            "[CV] END ........................................max_depth=4; total time=   0.2s\n",
            "[CV] END ........................................max_depth=4; total time=   0.2s\n",
            "[CV] END ........................................max_depth=4; total time=   0.2s\n",
            "[CV] END ........................................max_depth=4; total time=   0.3s\n",
            "[CV] END ........................................max_depth=4; total time=   0.3s\n",
            "[CV] END ........................................max_depth=4; total time=   0.3s\n",
            "[CV] END ........................................max_depth=4; total time=   0.3s\n",
            "[CV] END ........................................max_depth=5; total time=   0.4s\n",
            "[CV] END ........................................max_depth=5; total time=   0.4s\n",
            "[CV] END ........................................max_depth=5; total time=   0.4s\n",
            "[CV] END ........................................max_depth=5; total time=   0.4s\n",
            "[CV] END ........................................max_depth=5; total time=   0.4s\n",
            "[CV] END ........................................max_depth=5; total time=   0.4s\n",
            "[CV] END ........................................max_depth=5; total time=   0.4s\n",
            "[CV] END ........................................max_depth=5; total time=   0.4s\n",
            "[CV] END ........................................max_depth=5; total time=   0.3s\n",
            "[CV] END ........................................max_depth=5; total time=   0.3s\n",
            "[CV] END ........................................max_depth=5; total time=   0.3s\n",
            "[CV] END ........................................max_depth=5; total time=   0.3s\n",
            "[CV] END ........................................max_depth=5; total time=   0.3s\n",
            "[CV] END ........................................max_depth=5; total time=   0.3s\n",
            "[CV] END ........................................max_depth=5; total time=   0.2s\n",
            "[CV] END ........................................max_depth=5; total time=   0.3s\n",
            "[CV] END ........................................max_depth=5; total time=   0.2s\n",
            "[CV] END ........................................max_depth=5; total time=   0.2s\n",
            "[CV] END ........................................max_depth=5; total time=   0.2s\n",
            "[CV] END ........................................max_depth=5; total time=   0.2s\n",
            "[CV] END ........................................max_depth=6; total time=   0.3s\n",
            "[CV] END ........................................max_depth=6; total time=   0.3s\n",
            "[CV] END ........................................max_depth=6; total time=   0.3s\n",
            "[CV] END ........................................max_depth=6; total time=   0.3s\n",
            "[CV] END ........................................max_depth=6; total time=   0.2s\n",
            "[CV] END ........................................max_depth=6; total time=   0.2s\n",
            "[CV] END ........................................max_depth=6; total time=   0.2s\n",
            "[CV] END ........................................max_depth=6; total time=   0.2s\n",
            "[CV] END ........................................max_depth=6; total time=   0.2s\n",
            "[CV] END ........................................max_depth=6; total time=   0.2s\n",
            "[CV] END ........................................max_depth=6; total time=   0.3s\n",
            "[CV] END ........................................max_depth=6; total time=   0.2s\n",
            "[CV] END ........................................max_depth=6; total time=   0.2s\n",
            "[CV] END ........................................max_depth=6; total time=   0.2s\n",
            "[CV] END ........................................max_depth=6; total time=   0.2s\n",
            "[CV] END ........................................max_depth=6; total time=   0.2s\n",
            "[CV] END ........................................max_depth=6; total time=   0.2s\n",
            "[CV] END ........................................max_depth=6; total time=   0.2s\n",
            "[CV] END ........................................max_depth=6; total time=   0.2s\n",
            "[CV] END ........................................max_depth=6; total time=   0.2s\n",
            "[CV] END ........................................max_depth=7; total time=   0.3s\n",
            "[CV] END ........................................max_depth=7; total time=   0.3s\n",
            "[CV] END ........................................max_depth=7; total time=   0.3s\n",
            "[CV] END ........................................max_depth=7; total time=   0.3s\n",
            "[CV] END ........................................max_depth=7; total time=   0.3s\n",
            "[CV] END ........................................max_depth=7; total time=   0.3s\n",
            "[CV] END ........................................max_depth=7; total time=   0.3s\n",
            "[CV] END ........................................max_depth=7; total time=   0.3s\n",
            "[CV] END ........................................max_depth=7; total time=   0.3s\n",
            "[CV] END ........................................max_depth=7; total time=   0.3s\n",
            "[CV] END ........................................max_depth=7; total time=   0.3s\n",
            "[CV] END ........................................max_depth=7; total time=   0.3s\n",
            "[CV] END ........................................max_depth=7; total time=   0.3s\n",
            "[CV] END ........................................max_depth=7; total time=   0.3s\n",
            "[CV] END ........................................max_depth=7; total time=   0.3s\n",
            "[CV] END ........................................max_depth=7; total time=   0.3s\n",
            "[CV] END ........................................max_depth=7; total time=   0.3s\n",
            "[CV] END ........................................max_depth=7; total time=   0.3s\n",
            "[CV] END ........................................max_depth=7; total time=   0.3s\n",
            "[CV] END ........................................max_depth=7; total time=   0.3s\n",
            "[CV] END ........................................max_depth=8; total time=   0.4s\n",
            "[CV] END ........................................max_depth=8; total time=   0.4s\n",
            "[CV] END ........................................max_depth=8; total time=   0.4s\n",
            "[CV] END ........................................max_depth=8; total time=   0.3s\n",
            "[CV] END ........................................max_depth=8; total time=   0.4s\n",
            "[CV] END ........................................max_depth=8; total time=   0.4s\n",
            "[CV] END ........................................max_depth=8; total time=   0.3s\n",
            "[CV] END ........................................max_depth=8; total time=   0.3s\n",
            "[CV] END ........................................max_depth=8; total time=   0.3s\n",
            "[CV] END ........................................max_depth=8; total time=   0.3s\n",
            "[CV] END ........................................max_depth=8; total time=   0.3s\n",
            "[CV] END ........................................max_depth=8; total time=   0.3s\n",
            "[CV] END ........................................max_depth=8; total time=   0.3s\n",
            "[CV] END ........................................max_depth=8; total time=   0.3s\n",
            "[CV] END ........................................max_depth=8; total time=   0.3s\n",
            "[CV] END ........................................max_depth=8; total time=   0.3s\n",
            "[CV] END ........................................max_depth=8; total time=   0.3s\n",
            "[CV] END ........................................max_depth=8; total time=   0.3s\n",
            "[CV] END ........................................max_depth=8; total time=   0.3s\n",
            "[CV] END ........................................max_depth=8; total time=   0.3s\n",
            "[CV] END ........................................max_depth=9; total time=   0.4s\n",
            "[CV] END ........................................max_depth=9; total time=   0.4s\n",
            "[CV] END ........................................max_depth=9; total time=   0.4s\n",
            "[CV] END ........................................max_depth=9; total time=   0.4s\n",
            "[CV] END ........................................max_depth=9; total time=   0.4s\n",
            "[CV] END ........................................max_depth=9; total time=   0.4s\n",
            "[CV] END ........................................max_depth=9; total time=   0.4s\n",
            "[CV] END ........................................max_depth=9; total time=   0.4s\n",
            "[CV] END ........................................max_depth=9; total time=   0.4s\n",
            "[CV] END ........................................max_depth=9; total time=   0.4s\n",
            "[CV] END ........................................max_depth=9; total time=   0.4s\n",
            "[CV] END ........................................max_depth=9; total time=   0.4s\n",
            "[CV] END ........................................max_depth=9; total time=   0.4s\n",
            "[CV] END ........................................max_depth=9; total time=   0.4s\n",
            "[CV] END ........................................max_depth=9; total time=   0.4s\n",
            "[CV] END ........................................max_depth=9; total time=   0.4s\n",
            "[CV] END ........................................max_depth=9; total time=   0.4s\n",
            "[CV] END ........................................max_depth=9; total time=   0.4s\n",
            "[CV] END ........................................max_depth=9; total time=   0.4s\n",
            "[CV] END ........................................max_depth=9; total time=   0.4s\n",
            "[CV] END .......................................max_depth=10; total time=   0.4s\n",
            "[CV] END .......................................max_depth=10; total time=   0.5s\n",
            "[CV] END .......................................max_depth=10; total time=   0.4s\n",
            "[CV] END .......................................max_depth=10; total time=   0.4s\n",
            "[CV] END .......................................max_depth=10; total time=   0.4s\n",
            "[CV] END .......................................max_depth=10; total time=   0.4s\n",
            "[CV] END .......................................max_depth=10; total time=   0.4s\n",
            "[CV] END .......................................max_depth=10; total time=   0.4s\n",
            "[CV] END .......................................max_depth=10; total time=   0.3s\n",
            "[CV] END .......................................max_depth=10; total time=   0.3s\n",
            "[CV] END .......................................max_depth=10; total time=   0.3s\n",
            "[CV] END .......................................max_depth=10; total time=   0.3s\n",
            "[CV] END .......................................max_depth=10; total time=   0.3s\n",
            "[CV] END .......................................max_depth=10; total time=   0.3s\n",
            "[CV] END .......................................max_depth=10; total time=   0.3s\n",
            "[CV] END .......................................max_depth=10; total time=   0.3s\n",
            "[CV] END .......................................max_depth=10; total time=   0.3s\n",
            "[CV] END .......................................max_depth=10; total time=   0.3s\n",
            "[CV] END .......................................max_depth=10; total time=   0.3s\n",
            "[CV] END .......................................max_depth=10; total time=   0.3s\n"
          ]
        },
        {
          "data": {
            "text/html": [
              "<style>#sk-container-id-2 {color: black;background-color: white;}#sk-container-id-2 pre{padding: 0;}#sk-container-id-2 div.sk-toggleable {background-color: white;}#sk-container-id-2 label.sk-toggleable__label {cursor: pointer;display: block;width: 100%;margin-bottom: 0;padding: 0.3em;box-sizing: border-box;text-align: center;}#sk-container-id-2 label.sk-toggleable__label-arrow:before {content: \"▸\";float: left;margin-right: 0.25em;color: #696969;}#sk-container-id-2 label.sk-toggleable__label-arrow:hover:before {color: black;}#sk-container-id-2 div.sk-estimator:hover label.sk-toggleable__label-arrow:before {color: black;}#sk-container-id-2 div.sk-toggleable__content {max-height: 0;max-width: 0;overflow: hidden;text-align: left;background-color: #f0f8ff;}#sk-container-id-2 div.sk-toggleable__content pre {margin: 0.2em;color: black;border-radius: 0.25em;background-color: #f0f8ff;}#sk-container-id-2 input.sk-toggleable__control:checked~div.sk-toggleable__content {max-height: 200px;max-width: 100%;overflow: auto;}#sk-container-id-2 input.sk-toggleable__control:checked~label.sk-toggleable__label-arrow:before {content: \"▾\";}#sk-container-id-2 div.sk-estimator input.sk-toggleable__control:checked~label.sk-toggleable__label {background-color: #d4ebff;}#sk-container-id-2 div.sk-label input.sk-toggleable__control:checked~label.sk-toggleable__label {background-color: #d4ebff;}#sk-container-id-2 input.sk-hidden--visually {border: 0;clip: rect(1px 1px 1px 1px);clip: rect(1px, 1px, 1px, 1px);height: 1px;margin: -1px;overflow: hidden;padding: 0;position: absolute;width: 1px;}#sk-container-id-2 div.sk-estimator {font-family: monospace;background-color: #f0f8ff;border: 1px dotted black;border-radius: 0.25em;box-sizing: border-box;margin-bottom: 0.5em;}#sk-container-id-2 div.sk-estimator:hover {background-color: #d4ebff;}#sk-container-id-2 div.sk-parallel-item::after {content: \"\";width: 100%;border-bottom: 1px solid gray;flex-grow: 1;}#sk-container-id-2 div.sk-label:hover label.sk-toggleable__label {background-color: #d4ebff;}#sk-container-id-2 div.sk-serial::before {content: \"\";position: absolute;border-left: 1px solid gray;box-sizing: border-box;top: 0;bottom: 0;left: 50%;z-index: 0;}#sk-container-id-2 div.sk-serial {display: flex;flex-direction: column;align-items: center;background-color: white;padding-right: 0.2em;padding-left: 0.2em;position: relative;}#sk-container-id-2 div.sk-item {position: relative;z-index: 1;}#sk-container-id-2 div.sk-parallel {display: flex;align-items: stretch;justify-content: center;background-color: white;position: relative;}#sk-container-id-2 div.sk-item::before, #sk-container-id-2 div.sk-parallel-item::before {content: \"\";position: absolute;border-left: 1px solid gray;box-sizing: border-box;top: 0;bottom: 0;left: 50%;z-index: -1;}#sk-container-id-2 div.sk-parallel-item {display: flex;flex-direction: column;z-index: 1;position: relative;background-color: white;}#sk-container-id-2 div.sk-parallel-item:first-child::after {align-self: flex-end;width: 50%;}#sk-container-id-2 div.sk-parallel-item:last-child::after {align-self: flex-start;width: 50%;}#sk-container-id-2 div.sk-parallel-item:only-child::after {width: 0;}#sk-container-id-2 div.sk-dashed-wrapped {border: 1px dashed gray;margin: 0 0.4em 0.5em 0.4em;box-sizing: border-box;padding-bottom: 0.4em;background-color: white;}#sk-container-id-2 div.sk-label label {font-family: monospace;font-weight: bold;display: inline-block;line-height: 1.2em;}#sk-container-id-2 div.sk-label-container {text-align: center;}#sk-container-id-2 div.sk-container {/* jupyter's `normalize.less` sets `[hidden] { display: none; }` but bootstrap.min.css set `[hidden] { display: none !important; }` so we also need the `!important` here to be able to override the default hidden behavior on the sphinx rendered scikit-learn.org. See: https://github.com/scikit-learn/scikit-learn/issues/21755 */display: inline-block !important;position: relative;}#sk-container-id-2 div.sk-text-repr-fallback {display: none;}</style><div id=\"sk-container-id-2\" class=\"sk-top-container\"><div class=\"sk-text-repr-fallback\"><pre>GridSearchCV(cv=20, estimator=DecisionTreeClassifier(random_state=17),\n",
              "             n_jobs=-1, param_grid={&#x27;max_depth&#x27;: range(2, 11)}, verbose=2)</pre><b>In a Jupyter environment, please rerun this cell to show the HTML representation or trust the notebook. <br />On GitHub, the HTML representation is unable to render, please try loading this page with nbviewer.org.</b></div><div class=\"sk-container\" hidden><div class=\"sk-item sk-dashed-wrapped\"><div class=\"sk-label-container\"><div class=\"sk-label sk-toggleable\"><input class=\"sk-toggleable__control sk-hidden--visually\" id=\"sk-estimator-id-2\" type=\"checkbox\" ><label for=\"sk-estimator-id-2\" class=\"sk-toggleable__label sk-toggleable__label-arrow\">GridSearchCV</label><div class=\"sk-toggleable__content\"><pre>GridSearchCV(cv=20, estimator=DecisionTreeClassifier(random_state=17),\n",
              "             n_jobs=-1, param_grid={&#x27;max_depth&#x27;: range(2, 11)}, verbose=2)</pre></div></div></div><div class=\"sk-parallel\"><div class=\"sk-parallel-item\"><div class=\"sk-item\"><div class=\"sk-label-container\"><div class=\"sk-label sk-toggleable\"><input class=\"sk-toggleable__control sk-hidden--visually\" id=\"sk-estimator-id-3\" type=\"checkbox\" ><label for=\"sk-estimator-id-3\" class=\"sk-toggleable__label sk-toggleable__label-arrow\">estimator: DecisionTreeClassifier</label><div class=\"sk-toggleable__content\"><pre>DecisionTreeClassifier(random_state=17)</pre></div></div></div><div class=\"sk-serial\"><div class=\"sk-item\"><div class=\"sk-estimator sk-toggleable\"><input class=\"sk-toggleable__control sk-hidden--visually\" id=\"sk-estimator-id-4\" type=\"checkbox\" ><label for=\"sk-estimator-id-4\" class=\"sk-toggleable__label sk-toggleable__label-arrow\">DecisionTreeClassifier</label><div class=\"sk-toggleable__content\"><pre>DecisionTreeClassifier(random_state=17)</pre></div></div></div></div></div></div></div></div></div></div>"
            ],
            "text/plain": [
              "GridSearchCV(cv=20, estimator=DecisionTreeClassifier(random_state=17),\n",
              "             n_jobs=-1, param_grid={'max_depth': range(2, 11)}, verbose=2)"
            ]
          },
          "execution_count": 35,
          "metadata": {},
          "output_type": "execute_result"
        }
      ],
      "source": [
        "tree_params = {'max_depth': range(2,11)}\n",
        "\n",
        "clf = DecisionTreeClassifier(random_state=17)\n",
        "locally_best_tree = GridSearchCV(clf, tree_params, n_jobs=-1, verbose=2, cv=20)                      \n",
        "\n",
        "locally_best_tree.fit(X_train, y_train)"
      ]
    },
    {
      "cell_type": "code",
      "execution_count": 36,
      "metadata": {
        "id": "GzJH7-_DkrPz"
      },
      "outputs": [
        {
          "name": "stdout",
          "output_type": "stream",
          "text": [
            "Best params: {'max_depth': 10}\n",
            "Best cross validaton score 0.86\n"
          ]
        }
      ],
      "source": [
        "print(\"Best params:\", locally_best_tree.best_params_)\n",
        "print(\"Best cross validaton score %.2f\"%(locally_best_tree.best_score_))"
      ]
    },
    {
      "cell_type": "markdown",
      "metadata": {
        "id": "G3Ile3cokrPz"
      },
      "source": [
        "**Обучите на имеющейся выборке дерево решений максимальной глубины 9 (это лучшее значение `max_depth` в моем случае) и   оцените долю правильных ответов на тесте. Используйте параметр random_state = 17 для воспроизводимости результатов.**"
      ]
    },
    {
      "cell_type": "code",
      "execution_count": 37,
      "metadata": {
        "id": "lMl68uFXkrPz"
      },
      "outputs": [
        {
          "name": "stdout",
          "output_type": "stream",
          "text": [
            "Accuracy of Decision Tree with tuning 0.86\n"
          ]
        }
      ],
      "source": [
        "tuned_tree = locally_best_tree.best_estimator_\n",
        "tuned_tree.fit(X_train, y_train)\n",
        "tuned_tree_predictions = tuned_tree.predict(X_test)\n",
        "print(\"Accuracy of Decision Tree with tuning %.2f\"%(accuracy_score(y_test, tuned_tree_predictions)))"
      ]
    },
    {
      "cell_type": "markdown",
      "metadata": {
        "id": "4-yj-M1GkrPz"
      },
      "source": [
        "Какова доля правильных ответов дерева решений на тестовой выборке при максимальной глубине дерева = 9 и random_state = 17?\n",
        "\n",
        "Ответ: 0.86"
      ]
    },
    {
      "cell_type": "markdown",
      "metadata": {
        "id": "KsrjQhosd6Rn"
      },
      "source": [
        "# 3. Логистическая регрессия в задаче кредитного скоринга (15 баллов)\n",
        "\n"
      ]
    },
    {
      "cell_type": "markdown",
      "metadata": {
        "id": "XbBiOtCmkW0h"
      },
      "source": [
        "#### Данные представлены следующим образом (credit_scoring_sample из наших datasets на GitHub):\n",
        "\n",
        "##### Прогнозируемая  переменная\n",
        "* SeriousDlqin2yrs\t      – Человек не выплатил данный кредит в течение 90 дней; возможные значения  1/0 \n",
        "\n",
        "##### Независимые признаки\n",
        "* age\t                          –  Возраст заёмщика кредитных средств; тип - integer\n",
        "* NumberOfTime30-59DaysPastDueNotWorse\t – Количество раз, когда человек имел просрочку выплаты других кредитов более 30-59 дней, но не больше в течение последних двух лет; тип -\tinteger\n",
        "* DebtRatio  – \tЕжемесячный отчисления на задолжености(кредиты,алименты и т.д.)  / совокупный месячный доход \tpercentage; тип -\treal\n",
        "* MonthlyIncome\t – Месячный доход в долларах; тип -\treal\n",
        "* NumberOfTimes90DaysLate  – Количество раз, когда человек имел просрочку выплаты других кредитов более 90 дней; тип -\tinteger\n",
        "* NumberOfTime60-89DaysPastDueNotWorse – \tКоличество раз, когда человек имел просрочку выплаты других кредитов более 60-89 дней, но не больше в течение последних двух лет; тип -\tinteger\n",
        "* NumberOfDependents  – Число человек в семье кредитозаёмщика; тип -\tinteger"
      ]
    },
    {
      "cell_type": "code",
      "execution_count": 38,
      "metadata": {
        "id": "cDjEkqmykWJo"
      },
      "outputs": [],
      "source": [
        "%matplotlib inline\n",
        "\n",
        "import warnings\n",
        "\n",
        "import matplotlib.pyplot as plt\n",
        "import seaborn as sns\n",
        "\n",
        "warnings.filterwarnings(\"ignore\")\n",
        "import numpy as np\n",
        "import pandas as pd"
      ]
    },
    {
      "cell_type": "code",
      "execution_count": 39,
      "metadata": {
        "id": "__Nn9QPMnx8I"
      },
      "outputs": [
        {
          "data": {
            "text/html": [
              "<div>\n",
              "<style scoped>\n",
              "    .dataframe tbody tr th:only-of-type {\n",
              "        vertical-align: middle;\n",
              "    }\n",
              "\n",
              "    .dataframe tbody tr th {\n",
              "        vertical-align: top;\n",
              "    }\n",
              "\n",
              "    .dataframe thead th {\n",
              "        text-align: right;\n",
              "    }\n",
              "</style>\n",
              "<table border=\"1\" class=\"dataframe\">\n",
              "  <thead>\n",
              "    <tr style=\"text-align: right;\">\n",
              "      <th></th>\n",
              "      <th>SeriousDlqin2yrs</th>\n",
              "      <th>age</th>\n",
              "      <th>NumberOfTime30-59DaysPastDueNotWorse</th>\n",
              "      <th>DebtRatio</th>\n",
              "      <th>NumberOfTimes90DaysLate</th>\n",
              "      <th>NumberOfTime60-89DaysPastDueNotWorse</th>\n",
              "      <th>MonthlyIncome</th>\n",
              "      <th>NumberOfDependents</th>\n",
              "    </tr>\n",
              "  </thead>\n",
              "  <tbody>\n",
              "    <tr>\n",
              "      <th>0</th>\n",
              "      <td>0</td>\n",
              "      <td>64</td>\n",
              "      <td>0</td>\n",
              "      <td>0.249908</td>\n",
              "      <td>0</td>\n",
              "      <td>0</td>\n",
              "      <td>8158.0</td>\n",
              "      <td>0.0</td>\n",
              "    </tr>\n",
              "    <tr>\n",
              "      <th>1</th>\n",
              "      <td>0</td>\n",
              "      <td>58</td>\n",
              "      <td>0</td>\n",
              "      <td>3870.000000</td>\n",
              "      <td>0</td>\n",
              "      <td>0</td>\n",
              "      <td>NaN</td>\n",
              "      <td>0.0</td>\n",
              "    </tr>\n",
              "    <tr>\n",
              "      <th>2</th>\n",
              "      <td>0</td>\n",
              "      <td>41</td>\n",
              "      <td>0</td>\n",
              "      <td>0.456127</td>\n",
              "      <td>0</td>\n",
              "      <td>0</td>\n",
              "      <td>6666.0</td>\n",
              "      <td>0.0</td>\n",
              "    </tr>\n",
              "    <tr>\n",
              "      <th>3</th>\n",
              "      <td>0</td>\n",
              "      <td>43</td>\n",
              "      <td>0</td>\n",
              "      <td>0.000190</td>\n",
              "      <td>0</td>\n",
              "      <td>0</td>\n",
              "      <td>10500.0</td>\n",
              "      <td>2.0</td>\n",
              "    </tr>\n",
              "    <tr>\n",
              "      <th>4</th>\n",
              "      <td>1</td>\n",
              "      <td>49</td>\n",
              "      <td>0</td>\n",
              "      <td>0.271820</td>\n",
              "      <td>0</td>\n",
              "      <td>0</td>\n",
              "      <td>400.0</td>\n",
              "      <td>0.0</td>\n",
              "    </tr>\n",
              "  </tbody>\n",
              "</table>\n",
              "</div>"
            ],
            "text/plain": [
              "   SeriousDlqin2yrs  age  NumberOfTime30-59DaysPastDueNotWorse    DebtRatio  \\\n",
              "0                 0   64                                     0     0.249908   \n",
              "1                 0   58                                     0  3870.000000   \n",
              "2                 0   41                                     0     0.456127   \n",
              "3                 0   43                                     0     0.000190   \n",
              "4                 1   49                                     0     0.271820   \n",
              "\n",
              "   NumberOfTimes90DaysLate  NumberOfTime60-89DaysPastDueNotWorse  \\\n",
              "0                        0                                     0   \n",
              "1                        0                                     0   \n",
              "2                        0                                     0   \n",
              "3                        0                                     0   \n",
              "4                        0                                     0   \n",
              "\n",
              "   MonthlyIncome  NumberOfDependents  \n",
              "0         8158.0                 0.0  \n",
              "1            NaN                 0.0  \n",
              "2         6666.0                 0.0  \n",
              "3        10500.0                 2.0  \n",
              "4          400.0                 0.0  "
            ]
          },
          "execution_count": 39,
          "metadata": {},
          "output_type": "execute_result"
        }
      ],
      "source": [
        "## Считываем данные \n",
        "\n",
        "data = pd.read_csv(\"../datasets/credit_scoring_sample.csv\", sep=\";\") # прописать путь в ависимости от того, где выполняете работу\n",
        "data.head()"
      ]
    },
    {
      "cell_type": "code",
      "execution_count": 40,
      "metadata": {
        "id": "igtj-dVDn0vS"
      },
      "outputs": [
        {
          "data": {
            "text/plain": [
              "SeriousDlqin2yrs                          int64\n",
              "age                                       int64\n",
              "NumberOfTime30-59DaysPastDueNotWorse      int64\n",
              "DebtRatio                               float64\n",
              "NumberOfTimes90DaysLate                   int64\n",
              "NumberOfTime60-89DaysPastDueNotWorse      int64\n",
              "MonthlyIncome                           float64\n",
              "NumberOfDependents                      float64\n",
              "dtype: object"
            ]
          },
          "execution_count": 40,
          "metadata": {},
          "output_type": "execute_result"
        }
      ],
      "source": [
        "## Рассмотрим типы считанных данных\n",
        "data.dtypes"
      ]
    },
    {
      "cell_type": "code",
      "execution_count": 41,
      "metadata": {
        "id": "sDmSWXECo8_T"
      },
      "outputs": [
        {
          "name": "stdout",
          "output_type": "stream",
          "text": [
            "Distribution of target\n"
          ]
        },
        {
          "data": {
            "text/plain": [
              "0    0.777511\n",
              "1    0.222489\n",
              "Name: SeriousDlqin2yrs, dtype: float64"
            ]
          },
          "execution_count": 41,
          "metadata": {},
          "output_type": "execute_result"
        },
        {
          "data": {
            "image/png": "[encoded data removed]",
            "text/plain": [
              "<Figure size 1000x800 with 1 Axes>"
            ]
          },
          "metadata": {},
          "output_type": "display_data"
        }
      ],
      "source": [
        "## Посмотрим на распределение классов в зависимой переменной\n",
        "\n",
        "ax = data[\"SeriousDlqin2yrs\"].hist(orientation=\"horizontal\", color=\"red\")\n",
        "ax.set_xlabel(\"number_of_observations\")\n",
        "ax.set_ylabel(\"unique_value\")\n",
        "ax.set_title(\"Target distribution\")\n",
        "\n",
        "print(\"Distribution of target\")\n",
        "data[\"SeriousDlqin2yrs\"].value_counts() / data.shape[0]"
      ]
    },
    {
      "cell_type": "code",
      "execution_count": 42,
      "metadata": {
        "id": "xeBVyiN_pArq"
      },
      "outputs": [
        {
          "data": {
            "text/plain": [
              "['age',\n",
              " 'NumberOfTime30-59DaysPastDueNotWorse',\n",
              " 'DebtRatio',\n",
              " 'NumberOfTimes90DaysLate',\n",
              " 'NumberOfTime60-89DaysPastDueNotWorse',\n",
              " 'MonthlyIncome',\n",
              " 'NumberOfDependents']"
            ]
          },
          "execution_count": 42,
          "metadata": {},
          "output_type": "execute_result"
        }
      ],
      "source": [
        "## Выберем названия всех признаков из таблицы, кроме прогнозируемого\n",
        "\n",
        "independent_columns_names = data.columns.values\n",
        "independent_columns_names = [x for x in data if x != \"SeriousDlqin2yrs\"]\n",
        "independent_columns_names"
      ]
    },
    {
      "cell_type": "code",
      "execution_count": 43,
      "metadata": {},
      "outputs": [],
      "source": [
        "def delete_nan(data, inplace=False):\n",
        "    if inplace:\n",
        "        table = data\n",
        "    else:\n",
        "        table = data.copy()\n",
        "        \n",
        "    categorical_columns = [c for c in table.columns \n",
        "                             if table[c].dtype.name == 'object']\n",
        "    numerical_columns = [c for c in table.columns \n",
        "                            if table[c].dtype.name != 'object']\n",
        "\n",
        "    for c in categorical_columns:\n",
        "        table[c] = table[c].fillna(table[c].mode())\n",
        "    \n",
        "    for c in numerical_columns:\n",
        "        table[c] = table[c].fillna(table[c].median())\n",
        "    \n",
        "    return table\n",
        "    "
      ]
    },
    {
      "cell_type": "code",
      "execution_count": 44,
      "metadata": {
        "id": "dwq6aeKUpCek"
      },
      "outputs": [
        {
          "data": {
            "text/plain": [
              "(True, False)"
            ]
          },
          "execution_count": 44,
          "metadata": {},
          "output_type": "execute_result"
        }
      ],
      "source": [
        "## Применяем функцию, заменяющую все NaN значения на медианное значение соответствующего столбца\n",
        "table = delete_nan(data)\n",
        "\n",
        "## Check if delete_nan works\n",
        "data.isnull().values.any(), table.isnull().values.any()"
      ]
    },
    {
      "cell_type": "code",
      "execution_count": 45,
      "metadata": {
        "id": "rERQ6AG-pX4W"
      },
      "outputs": [],
      "source": [
        "## Разделяем таргет и признаки\n",
        "X = table[independent_columns_names]\n",
        "y = table[\"SeriousDlqin2yrs\"]"
      ]
    },
    {
      "cell_type": "code",
      "execution_count": 46,
      "metadata": {},
      "outputs": [],
      "source": [
        "## Normalization of X and y\n",
        "from sklearn.preprocessing import StandardScaler\n",
        "normalizer = StandardScaler()\n",
        "normalizer.fit(X)\n",
        "X_normalized = normalizer.transform(X)"
      ]
    },
    {
      "cell_type": "markdown",
      "metadata": {
        "id": "VyjnO1Uyqi5j"
      },
      "source": [
        "Одной из важных метрик качества модели является значение площади под ROC-кривой. Значение ROC-AUC лежит от 0 до 1. Чем ближе значение метрики ROC-AUC к 1, тем качественнее происходит классификация моделью."
      ]
    },
    {
      "cell_type": "code",
      "execution_count": 47,
      "metadata": {
        "id": "3vaSRF57qkGM"
      },
      "outputs": [],
      "source": [
        "from sklearn.linear_model import LogisticRegression\n",
        "from sklearn.model_selection import GridSearchCV, StratifiedKFold\n",
        "\n",
        "# Используем модуль LogisticRegression для построения логистической регрессии.\n",
        "# Из-за несбалансированности классов  в таргете добавляем параметр балансировки.\n",
        "# Используем также параметр random_state=5 для воспроизводимости результатов\n",
        "lr = LogisticRegression(random_state=5, class_weight=\"balanced\", max_iter=1000)\n",
        "\n",
        "# Попробуем подобрать лучший коэффициент регуляризации (коэффициент C в логистической регрессии) для модели лог.регрессии.\n",
        "# Этот параметр необходим для того, чтобы подобрать оптимальную модель, которая не будет переобучена, с одной стороны,\n",
        "# и будет хорошо предсказывать значения таргета, с другой.\n",
        "# Остальные параметры оставляем по умолчанию.\n",
        "parameters = {\"C\": (0.0001, 0.001, 0.01, 0.1, 1, 10)}\n",
        "\n",
        "# Для того, чтобы подобрать коэффициент регуляризации, попробуем для каждого его возможного значения посмотреть\n",
        "# значения roc-auc на стрэтифайд кросс-валидации из 5 фолдов с помощью функции StratifiedKFold\n",
        "\n",
        "skf = StratifiedKFold(n_splits=5, shuffle=True, random_state=5)"
      ]
    },
    {
      "cell_type": "code",
      "execution_count": 48,
      "metadata": {
        "id": "mDAxK2_gql2T"
      },
      "outputs": [
        {
          "name": "stdout",
          "output_type": "stream",
          "text": [
            "Fitting 5 folds for each of 6 candidates, totalling 30 fits\n",
            "Best params: {'C': 10}\n",
            "Best cross validaton score 0.79\n",
            "Standart deviation for best model 0.0032\n"
          ]
        }
      ],
      "source": [
        "# Можно ли считать лучшую модель устойчивой? \n",
        "# (модель считаем устойчивой, если стандартное отклонение на валидации меньше 0.5%) \n",
        "# Cохраните точность лучшей модели, она вам приходится для следующих заданий\n",
        "\n",
        "logit_cv = GridSearchCV(lr, parameters, scoring='roc_auc', cv=skf, n_jobs=-1, verbose=1)\n",
        "logit_cv.fit(X_normalized, y)\n",
        "logit_cv_roc_best = logit_cv.best_score_\n",
        "logit_cv_estimator = logit_cv.best_estimator_\n",
        "print(\"Best params:\", logit_cv.best_params_)\n",
        "print(\"Best cross validaton score %.2f\"%(logit_cv.best_score_))\n",
        "print(\"Standart deviation for best model %.4f\"%(logit_cv.cv_results_['std_test_score'][logit_cv.best_index_]))"
      ]
    },
    {
      "cell_type": "markdown",
      "metadata": {},
      "source": [
        "Стандартное отклонение оценок в лучшей модели 0.0032 поэтому модуль можно считать устойчивой."
      ]
    },
    {
      "cell_type": "markdown",
      "metadata": {
        "id": "aSlMDAcGqzSM"
      },
      "source": [
        "## 3.1 Определение влияния признаков (5 баллов) "
      ]
    },
    {
      "cell_type": "markdown",
      "metadata": {
        "id": "CPYLVL2Yq3nk"
      },
      "source": [
        "Определите самый важный признак. Важность признака определяется абсолютным значением его коэффициента. Так же нужно нормализировать все признаки, что бы можно их было корректно сравнить."
      ]
    },
    {
      "cell_type": "code",
      "execution_count": 49,
      "metadata": {},
      "outputs": [],
      "source": [
        "def draw_importances(importances, features_names):\n",
        "    indices = np.argsort(importances)[::-1]\n",
        "    features_len = len(features_names)\n",
        "    for f in range(features_len):\n",
        "        print(\n",
        "            \"%d. %s %f \"\n",
        "            % (f + 1, \n",
        "                independent_columns_names[indices[f]],\n",
        "                importances[indices[f]])\n",
        "        )\n",
        "\n",
        "    plt.figure(figsize=(15, 5))\n",
        "    plt.title(u\"Важность фич\")\n",
        "    bars = plt.bar(\n",
        "        range(features_len),\n",
        "        importances[indices[:features_len]],\n",
        "        color=([str(i / float(features_len + 1)) for i in range(features_len)]),\n",
        "        align=\"center\",\n",
        "    )\n",
        "    plt.xticks(range(features_len), range(1, features_len + 1))\n",
        "    plt.xlim([-1, features_len])\n",
        "    plt.legend(bars, [u\"\".join(independent_columns_names[i]) for i in indices])"
      ]
    },
    {
      "cell_type": "code",
      "execution_count": 50,
      "metadata": {},
      "outputs": [
        {
          "name": "stdout",
          "output_type": "stream",
          "text": [
            "Feature with max weight is NumberOfTime30-59DaysPastDueNotWorse\n",
            "1. NumberOfTime30-59DaysPastDueNotWorse 3.277332 \n",
            "2. NumberOfTimes90DaysLate 3.065582 \n",
            "3. age 0.436496 \n",
            "4. MonthlyIncome 0.203966 \n",
            "5. NumberOfDependents 0.085266 \n",
            "6. NumberOfTime60-89DaysPastDueNotWorse 0.076360 \n",
            "7. DebtRatio 0.042338 \n"
          ]
        },
        {
          "data": {
            "image/png": "[encoded data removed]",
            "text/plain": [
              "<Figure size 1500x500 with 1 Axes>"
            ]
          },
          "metadata": {},
          "output_type": "display_data"
        }
      ],
      "source": [
        "max_weight_feature = np.argmax(np.abs(logit_cv_estimator.coef_[0]))\n",
        "print(\"Feature with max weight is\", independent_columns_names[max_weight_feature])\n",
        "draw_importances(np.abs(logit_cv_estimator.coef_[0]), independent_columns_names)"
      ]
    },
    {
      "cell_type": "code",
      "execution_count": 51,
      "metadata": {
        "id": "UO9gIaUFrAjM"
      },
      "outputs": [
        {
          "name": "stdout",
          "output_type": "stream",
          "text": [
            "Influence of DebtRatio 1.82%\n"
          ]
        }
      ],
      "source": [
        "# Посчитайте долю влияния DebtRatio на предсказание. (Воспользуйтесь функцией softmax)\n",
        "from scipy.special import softmax\n",
        "\n",
        "debt_index = np.where(np.array(independent_columns_names) == 'DebtRatio')\n",
        "print(\"Influence of DebtRatio %.2f\"%(softmax(logit_cv_estimator.coef_[0])[debt_index][0] * 100) + \"%\")"
      ]
    },
    {
      "cell_type": "markdown",
      "metadata": {
        "id": "-MaKXPb8rXej"
      },
      "source": [
        "# 4. Случайный лес (5 баллов) "
      ]
    },
    {
      "cell_type": "code",
      "execution_count": 52,
      "metadata": {
        "id": "Nq6zbijTrZ1C"
      },
      "outputs": [],
      "source": [
        "from sklearn.ensemble import RandomForestClassifier\n",
        "\n",
        "# Инициализируем случайный лес с 100 деревьями и сбалансированными классами\n",
        "rf = RandomForestClassifier(\n",
        "    n_estimators=100,\n",
        "    n_jobs=-1,\n",
        "    random_state=42,\n",
        "    oob_score=True,\n",
        "    class_weight=\"balanced\",\n",
        ")\n",
        "\n",
        "## Будем искать лучшие параметры среди следующего набора\n",
        "parameters = {\n",
        "    \"max_features\": [1, 2, 4],\n",
        "    \"min_samples_leaf\": [3, 5, 7, 9],\n",
        "    \"max_depth\": [5, 10, 15],\n",
        "}\n",
        "\n",
        "## Делаем опять же k-fold валидацию. "
      ]
    },
    {
      "cell_type": "code",
      "execution_count": 53,
      "metadata": {
        "id": "24Sn8YLrrcfw"
      },
      "outputs": [
        {
          "name": "stdout",
          "output_type": "stream",
          "text": [
            "Fitting 5 folds for each of 36 candidates, totalling 180 fits\n",
            "Best params: {'max_depth': 10, 'max_features': 4, 'min_samples_leaf': 9}\n",
            "Best cross validaton score 0.84\n",
            "Random forest have score greater for 0.05\n"
          ]
        }
      ],
      "source": [
        "# Насколько точность лучшей модели случайного леса выше точности логистической регрессии на валидации?\n",
        "\n",
        "rf_cv = GridSearchCV(rf, parameters, scoring='roc_auc', cv=skf, n_jobs=-1, verbose=1)\n",
        "rf_cv.fit(X_normalized, y)\n",
        "best_forest = rf_cv.best_estimator_\n",
        "print(\"Best params:\", rf_cv.best_params_)\n",
        "print(\"Best cross validaton score %.2f\"%(rf_cv.best_score_))\n",
        "print(\"Random forest have score greater for %.2f\"%(rf_cv.best_score_ - logit_cv_roc_best))\n"
      ]
    },
    {
      "cell_type": "code",
      "execution_count": 54,
      "metadata": {
        "id": "8tUare7irkd0"
      },
      "outputs": [
        {
          "name": "stdout",
          "output_type": "stream",
          "text": [
            "Feature with min weight is NumberOfDependents\n",
            "1. NumberOfTimes90DaysLate 0.314289 \n",
            "2. NumberOfTime30-59DaysPastDueNotWorse 0.296215 \n",
            "3. NumberOfTime60-89DaysPastDueNotWorse 0.129030 \n",
            "4. age 0.100195 \n",
            "5. DebtRatio 0.087578 \n",
            "6. MonthlyIncome 0.060962 \n",
            "7. NumberOfDependents 0.011730 \n"
          ]
        },
        {
          "data": {
            "image/png": "[encoded data removed]",
            "text/plain": [
              "<Figure size 1500x500 with 1 Axes>"
            ]
          },
          "metadata": {},
          "output_type": "display_data"
        }
      ],
      "source": [
        "# Какой признак имеет наименьшее влияние?\n",
        "min_weight_feature = np.argmin(best_forest.feature_importances_)\n",
        "print(\"Feature with min weight is\", independent_columns_names[min_weight_feature])\n",
        "draw_importances(best_forest.feature_importances_, independent_columns_names)"
      ]
    },
    {
      "cell_type": "code",
      "execution_count": null,
      "metadata": {},
      "outputs": [],
      "source": []
    }
  ],
  "metadata": {
    "colab": {
      "provenance": []
    },
    "kernelspec": {
      "display_name": "Python 3.9.12 ('venv': venv)",
      "language": "python",
      "name": "python3"
    },
    "language_info": {
      "codemirror_mode": {
        "name": "ipython",
        "version": 3
      },
      "file_extension": ".py",
      "mimetype": "text/x-python",
      "name": "python",
      "nbconvert_exporter": "python",
      "pygments_lexer": "ipython3",
      "version": "3.9.12"
    },
    "vscode": {
      "interpreter": {
        "hash": "3c6f432044ad9b83c031fbd0d5d41a8cac4bbd3994ea9d5537b4e2576e7a0fdc"
      }
    }
  },
  "nbformat": 4,
  "nbformat_minor": 0
}
